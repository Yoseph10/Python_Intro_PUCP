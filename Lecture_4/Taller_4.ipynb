{
  "nbformat": 4,
  "nbformat_minor": 0,
  "metadata": {
    "colab": {
      "name": "Taller_4.ipynb",
      "provenance": [],
      "collapsed_sections": []
    },
    "kernelspec": {
      "name": "python3",
      "display_name": "Python 3"
    },
    "language_info": {
      "name": "python"
    }
  },
  "cells": [
    {
      "cell_type": "markdown",
      "metadata": {
        "id": "C7Thb0IMb6aE"
      },
      "source": [
        "# CLASE 4"
      ]
    },
    {
      "cell_type": "markdown",
      "metadata": {
        "id": "NOcBpX3o4AS-"
      },
      "source": [
        "## Análisis de base de datos: ENDES"
      ]
    },
    {
      "cell_type": "code",
      "metadata": {
        "id": "bwU5PFIQw4yb"
      },
      "source": [
        "#Instalamos paquetes\n",
        "import numpy as np\n",
        "import pandas as pd\n",
        "import os"
      ],
      "execution_count": 72,
      "outputs": []
    },
    {
      "cell_type": "code",
      "metadata": {
        "id": "PbetgGIhw6Aq"
      },
      "source": [
        "from google.colab import drive\n",
        "drive.mount('/content/drive')"
      ],
      "execution_count": null,
      "outputs": []
    },
    {
      "cell_type": "code",
      "metadata": {
        "id": "RjKZbKFmxAz6"
      },
      "source": [
        "#Seteamos la ruta en la que se encuentran nuestros datos a usar\n",
        "os.chdir('/content/drive/MyDrive/Q-LAB/Taller Python/Datos')"
      ],
      "execution_count": null,
      "outputs": []
    },
    {
      "cell_type": "markdown",
      "metadata": {
        "id": "07EvIIRG4KGm"
      },
      "source": [
        "La base de datos a utilizar proviene de la Encuesta Demográfica y de Salud Familiar (ENDES). Específicamente, se hace uso del módulo de Mortalidad Materna - Violencia Familiar\n",
        "\n",
        "Puede descargar la base aquí: http://iinei.inei.gob.pe/microdatos/"
      ]
    },
    {
      "cell_type": "code",
      "metadata": {
        "id": "Y0_FWbhCxCS2"
      },
      "source": [
        "#Importando la base de datos en formato dta\n",
        "df= pd.read_stata('REC84DV_2019.dta')"
      ],
      "execution_count": null,
      "outputs": []
    },
    {
      "cell_type": "code",
      "metadata": {
        "id": "G7V5dMKUy6aw"
      },
      "source": [
        "df.head()"
      ],
      "execution_count": null,
      "outputs": []
    },
    {
      "cell_type": "code",
      "metadata": {
        "id": "rWY8N_JuzJm1"
      },
      "source": [
        "df.shape"
      ],
      "execution_count": null,
      "outputs": []
    },
    {
      "cell_type": "markdown",
      "metadata": {
        "id": "ine8a58T1edZ"
      },
      "source": [
        "*Las variables de interés son las siguientes:*\n",
        "\n",
        "D104: Hubo violencia emocional | 0=No, 1=Sí\n",
        "\n",
        "D106: Experimentó cualquier violencia física menos severa | 0=No, 1=Sí\n",
        "\n",
        "D107: Experimentó cualquier violencia física severa | 0=No, 1=Sí\n",
        "\n",
        "D108: Experimentó cualquier violencia sexual | 0=No, 1=Sí\n"
      ]
    },
    {
      "cell_type": "code",
      "metadata": {
        "id": "06AAS4PN8_5S"
      },
      "source": [
        "#Creamos un DataFrame con solo nuestras variables de interés\n",
        "df1 = df[[\"CASEID\", \"D104\", \"D106\", \"D107\", \"D108\"]]\n",
        "df1"
      ],
      "execution_count": null,
      "outputs": []
    },
    {
      "cell_type": "code",
      "metadata": {
        "id": "6zPyxaX2zOPl"
      },
      "source": [
        "#Explorando los valores de cada variable\n",
        "\n",
        "df1[\"D104\"].values, df1[\"D106\"].values, df1[\"D107\"].values, df1[\"D108\"].values"
      ],
      "execution_count": null,
      "outputs": []
    },
    {
      "cell_type": "markdown",
      "metadata": {
        "id": "euLthCKOVN-m"
      },
      "source": [
        "1. El número de mujeres que han sido víctimas de violencia emocional\n"
      ]
    },
    {
      "cell_type": "code",
      "metadata": {
        "id": "ZX6gQNsD51pR"
      },
      "source": [
        "df1[\"D104\"].value_counts()"
      ],
      "execution_count": null,
      "outputs": []
    },
    {
      "cell_type": "code",
      "metadata": {
        "id": "pZjBgnlZByXj"
      },
      "source": [
        "#Notar que con el comando \"value_counts()\" estamos gerando una Serie\n",
        "type(df1[\"D104\"].value_counts())"
      ],
      "execution_count": null,
      "outputs": []
    },
    {
      "cell_type": "code",
      "metadata": {
        "id": "RHHcUlhsCEsL"
      },
      "source": [
        "#Guardamos la Serie\n",
        "V1 = df1[\"D104\"].value_counts()"
      ],
      "execution_count": null,
      "outputs": []
    },
    {
      "cell_type": "markdown",
      "metadata": {
        "id": "xq5S80U4VQVV"
      },
      "source": [
        "2. El número de mujeres que han sido víctimas de violencia física menos severa\n"
      ]
    },
    {
      "cell_type": "code",
      "metadata": {
        "id": "yB3yiCEn24A6"
      },
      "source": [
        "df1[\"D106\"].value_counts()"
      ],
      "execution_count": null,
      "outputs": []
    },
    {
      "cell_type": "code",
      "metadata": {
        "id": "6Rrr6d8FCQ8S"
      },
      "source": [
        "V2 = df1[\"D106\"].value_counts()"
      ],
      "execution_count": null,
      "outputs": []
    },
    {
      "cell_type": "markdown",
      "metadata": {
        "id": "Ts2la85XVUFV"
      },
      "source": [
        "3. El número de mujeres que han sido víctimas de violencia física severa"
      ]
    },
    {
      "cell_type": "code",
      "metadata": {
        "id": "LnV73EC69iMX"
      },
      "source": [
        "df1[\"D107\"].value_counts()"
      ],
      "execution_count": null,
      "outputs": []
    },
    {
      "cell_type": "code",
      "metadata": {
        "id": "sxmAwwmECYXp"
      },
      "source": [
        "V3 = df1[\"D107\"].value_counts()"
      ],
      "execution_count": null,
      "outputs": []
    },
    {
      "cell_type": "markdown",
      "metadata": {
        "id": "p02FP3HbVXnN"
      },
      "source": [
        "4. El número de mujeres que han sido víctimas de violencia sexual\n"
      ]
    },
    {
      "cell_type": "code",
      "metadata": {
        "id": "gVWc4iVyPtAN"
      },
      "source": [
        "df1[\"D108\"].value_counts()"
      ],
      "execution_count": null,
      "outputs": []
    },
    {
      "cell_type": "code",
      "metadata": {
        "id": "JKSCmUZVDxxb"
      },
      "source": [
        "V4 = df1[\"D108\"].value_counts()"
      ],
      "execution_count": null,
      "outputs": []
    },
    {
      "cell_type": "markdown",
      "metadata": {
        "id": "fAYANCZ5W0EE"
      },
      "source": [
        "5. El número de mujeres que han sido víctimas de cualquier tipo de violencia física\n"
      ]
    },
    {
      "cell_type": "code",
      "metadata": {
        "id": "x573jEWkW49N"
      },
      "source": [
        "#Creamos una variable que tome el valor de 1 si es que la mujer ha sido víctima de violencia física y 0 si es que no lo ha sido\n",
        "df1[\"V_FISICA\"] = (df1[\"D106\"] == 1) | (df1[\"D107\"] == 1)"
      ],
      "execution_count": null,
      "outputs": []
    },
    {
      "cell_type": "code",
      "metadata": {
        "id": "kXjhbrDtZDv_"
      },
      "source": [
        "df1.V_FISICA.value_counts()"
      ],
      "execution_count": null,
      "outputs": []
    },
    {
      "cell_type": "code",
      "metadata": {
        "id": "qu7cYcIqZe-6"
      },
      "source": [
        "#Convertimos los False en 0 y los True en 1\n",
        "df1[\"V_FISICA\"] = df1[\"V_FISICA\"]*1   "
      ],
      "execution_count": null,
      "outputs": []
    },
    {
      "cell_type": "code",
      "metadata": {
        "id": "hp8cCplWABxg"
      },
      "source": [
        "df1.V_FISICA.value_counts()"
      ],
      "execution_count": null,
      "outputs": []
    },
    {
      "cell_type": "code",
      "metadata": {
        "id": "nwEEg0zuD5hS"
      },
      "source": [
        "V5 = df1.V_FISICA.value_counts()"
      ],
      "execution_count": null,
      "outputs": []
    },
    {
      "cell_type": "markdown",
      "metadata": {
        "id": "j_AeJT6sVbo6"
      },
      "source": [
        "6. El número de mujeres que han sido víctimas de al menos algún tipo de violencia"
      ]
    },
    {
      "cell_type": "code",
      "metadata": {
        "id": "aUHw9Vvm9m6-"
      },
      "source": [
        "#Creamos una variable que tome el valor de 1 si es que la mujer ha sido víctima de algún al menos algún tipo de violencia y 0 si es que no lo ha sido\n",
        "df1[\"VICTIMA1\"] = ( (df1[\"D104\"] == 1) | (df1[\"V_FISICA\"] == 1) | (df1[\"D108\"] == 1) )*1"
      ],
      "execution_count": null,
      "outputs": []
    },
    {
      "cell_type": "code",
      "metadata": {
        "id": "OFTmsfEbWp0w"
      },
      "source": [
        "df1.VICTIMA1.value_counts()"
      ],
      "execution_count": null,
      "outputs": []
    },
    {
      "cell_type": "code",
      "metadata": {
        "id": "-7yvbjvQFzxK"
      },
      "source": [
        "V6 = df1.VICTIMA1.value_counts()"
      ],
      "execution_count": null,
      "outputs": []
    },
    {
      "cell_type": "markdown",
      "metadata": {
        "id": "qNR5ja4jabyf"
      },
      "source": [
        "7. El número de mujeres que han sido víctimas de todos los tipos de violencia"
      ]
    },
    {
      "cell_type": "code",
      "metadata": {
        "id": "v8pahvalaaop"
      },
      "source": [
        "df1[\"VICTIMA2\"] = ( (df1[\"D104\"] == 1) & (df1[\"V_FISICA\"] == 1) & (df1[\"D108\"] == 1) )*1"
      ],
      "execution_count": null,
      "outputs": []
    },
    {
      "cell_type": "code",
      "metadata": {
        "id": "NdRAdIBbaUPs"
      },
      "source": [
        "df1.VICTIMA2.value_counts()"
      ],
      "execution_count": null,
      "outputs": []
    },
    {
      "cell_type": "code",
      "metadata": {
        "id": "MWREgnN7F4Ta"
      },
      "source": [
        "V7 = df1.VICTIMA1.value_counts()"
      ],
      "execution_count": null,
      "outputs": []
    },
    {
      "cell_type": "code",
      "metadata": {
        "id": "FwT7SpL4WcJJ"
      },
      "source": [
        "Mortalidad_Violencia = df1"
      ],
      "execution_count": null,
      "outputs": []
    },
    {
      "cell_type": "markdown",
      "metadata": {
        "id": "P52TSyciA-Na"
      },
      "source": [
        "**Guardando nuestros resultados en un nuevo DataFrame**"
      ]
    },
    {
      "cell_type": "code",
      "metadata": {
        "id": "UWelnVDtA8hC"
      },
      "source": [
        "database = pd.DataFrame([V1, V2, V3, V4, V5, V6, V7])\n",
        "database"
      ],
      "execution_count": null,
      "outputs": []
    },
    {
      "cell_type": "code",
      "metadata": {
        "id": "Livliy18Gp8a"
      },
      "source": [
        "database.index=['V1','V2','V3','V4','V5','V6','V7']\n",
        "database"
      ],
      "execution_count": null,
      "outputs": []
    },
    {
      "cell_type": "code",
      "metadata": {
        "id": "pw1YAOU9Ctab"
      },
      "source": [
        "#podemos transponer el DataFrame\n",
        "database.T "
      ],
      "execution_count": null,
      "outputs": []
    },
    {
      "cell_type": "markdown",
      "metadata": {
        "id": "UETFpbMwgB5A"
      },
      "source": [
        "## Unión de bases de datos"
      ]
    },
    {
      "cell_type": "markdown",
      "metadata": {
        "id": "fVPADGLmmyY-"
      },
      "source": [
        "**One to one merging**"
      ]
    },
    {
      "cell_type": "code",
      "metadata": {
        "id": "pCIXCzUvjSJn"
      },
      "source": [
        "demo = pd.DataFrame({'country': ['USA', 'Albania', 'Turkey', 'China', 'Sudan'],\n",
        "                    'democracy_score': [19, 16, 16, 5, 10]})\n",
        "\n",
        "econ = pd.DataFrame({'country': ['China', 'Albania', 'Turkey', 'USA', 'Sudan'],\n",
        "                    'gpd_pc': [12000, 10000, 9000, 20000, 500]})"
      ],
      "execution_count": null,
      "outputs": []
    },
    {
      "cell_type": "code",
      "metadata": {
        "id": "OIn_Qb02pPRF"
      },
      "source": [
        "demo"
      ],
      "execution_count": null,
      "outputs": []
    },
    {
      "cell_type": "code",
      "metadata": {
        "id": "oAy5nnJTpRTE"
      },
      "source": [
        "econ"
      ],
      "execution_count": null,
      "outputs": []
    },
    {
      "cell_type": "code",
      "metadata": {
        "id": "Xtq87sjXJro6"
      },
      "source": [
        "#help(pd.merge)"
      ],
      "execution_count": null,
      "outputs": []
    },
    {
      "cell_type": "code",
      "metadata": {
        "id": "umEPQr_7o2Un"
      },
      "source": [
        "demo_econ = demo.merge( econ, on = \"country\" ) "
      ],
      "execution_count": null,
      "outputs": []
    },
    {
      "cell_type": "code",
      "metadata": {
        "id": "Rmr6RR0RpNIX"
      },
      "source": [
        "demo_econ"
      ],
      "execution_count": null,
      "outputs": []
    },
    {
      "cell_type": "markdown",
      "metadata": {
        "id": "ZWb57W6zrS5D"
      },
      "source": [
        "**Many to one merging**"
      ]
    },
    {
      "cell_type": "code",
      "metadata": {
        "id": "hXMWxGQgouqA"
      },
      "source": [
        "demo = pd.DataFrame({'country': ['USA', 'USA', 'USA', 'China', 'China', 'China', 'Sudan', 'Sudan', 'Sudan'],\n",
        "                    'democracy_score': [7, 6, 5, 10, 12, 7, 3, 4, 10]})\n",
        "\n",
        "region = pd.DataFrame({'country': ['USA', 'China', 'Sudan'],\n",
        "                    'region': ['America', 'Asia', 'Africa']})"
      ],
      "execution_count": null,
      "outputs": []
    },
    {
      "cell_type": "code",
      "metadata": {
        "id": "Z2hd8XXVrapz"
      },
      "source": [
        "demo"
      ],
      "execution_count": null,
      "outputs": []
    },
    {
      "cell_type": "code",
      "metadata": {
        "id": "tEgtuC34st6T"
      },
      "source": [
        "region"
      ],
      "execution_count": null,
      "outputs": []
    },
    {
      "cell_type": "code",
      "metadata": {
        "id": "nAJRG00Xsv8K"
      },
      "source": [
        "demo_region = demo.merge( region, on = \"country\" )"
      ],
      "execution_count": null,
      "outputs": []
    },
    {
      "cell_type": "code",
      "metadata": {
        "id": "uDE7WL2yuAm0"
      },
      "source": [
        "demo_region"
      ],
      "execution_count": null,
      "outputs": []
    },
    {
      "cell_type": "markdown",
      "metadata": {
        "id": "iCkYfnun59t1"
      },
      "source": [
        "## Unión de bases de datos: ENDES"
      ]
    },
    {
      "cell_type": "markdown",
      "metadata": {
        "id": "uKQrybEt6uBG"
      },
      "source": [
        "Haremos uso del módulo llamado Datos Básicos de MEF. Uniremos este módulo con el módulo de Mortalidad Materna-Violencia Familiar"
      ]
    },
    {
      "cell_type": "code",
      "metadata": {
        "id": "6B79NPcK7O_Z"
      },
      "source": [
        "df2= pd.read_stata('REC91_2019.dta')"
      ],
      "execution_count": null,
      "outputs": []
    },
    {
      "cell_type": "code",
      "metadata": {
        "id": "Q_4U6VPJ7SJQ"
      },
      "source": [
        "df2.head()"
      ],
      "execution_count": null,
      "outputs": []
    },
    {
      "cell_type": "code",
      "metadata": {
        "id": "xDpmOM6-77t3"
      },
      "source": [
        "df2.shape"
      ],
      "execution_count": null,
      "outputs": []
    },
    {
      "cell_type": "markdown",
      "metadata": {
        "id": "mRTR-t8c6gm_"
      },
      "source": [
        "*Las variables de interés son las siguientes:*\n",
        "\n",
        "\n",
        "S108N: Nivel educativo aprobado (6 categorías)\n",
        "\n",
        "S119NA: Lengua materna (13 categorías)\n",
        "\n",
        "SREGION: Región Natural | 1=Lima Metropolitina, 2= Resto Costa, 3= Sierra, 4=Selva"
      ]
    },
    {
      "cell_type": "code",
      "metadata": {
        "id": "KJ6x7KmmPh5R"
      },
      "source": [
        "#Creamos un DataFrame con solo nuestras variables de interés\n",
        "datos_MEF = df2[[\"CASEID\", \"S108N\", \"S119NA\", \"SREGION\"]]"
      ],
      "execution_count": null,
      "outputs": []
    },
    {
      "cell_type": "markdown",
      "metadata": {
        "id": "GkL1fGeiQ67S"
      },
      "source": [
        "**Unimos la base datos_MEF con la base Mortalidad_Violencia**"
      ]
    },
    {
      "cell_type": "code",
      "metadata": {
        "id": "q5k8S49ZWzPw"
      },
      "source": [
        "Mortalidad_Violencia.head()"
      ],
      "execution_count": null,
      "outputs": []
    },
    {
      "cell_type": "code",
      "metadata": {
        "id": "q-7V7A1lW6MR"
      },
      "source": [
        "Mortalidad_Violencia.shape"
      ],
      "execution_count": null,
      "outputs": []
    },
    {
      "cell_type": "code",
      "metadata": {
        "id": "xqKNp1UJX2Ph"
      },
      "source": [
        "datos_MEF.head()"
      ],
      "execution_count": null,
      "outputs": []
    },
    {
      "cell_type": "code",
      "metadata": {
        "id": "NnhC304wX5ug"
      },
      "source": [
        "datos_MEF.shape"
      ],
      "execution_count": null,
      "outputs": []
    },
    {
      "cell_type": "code",
      "metadata": {
        "id": "v93J8itiZc6I"
      },
      "source": [
        "#inner merge\n",
        "base_i = datos_MEF.merge( Mortalidad_Violencia, how = \"inner\", on =\"CASEID\" ) \n",
        "base_i.shape"
      ],
      "execution_count": null,
      "outputs": []
    },
    {
      "cell_type": "code",
      "metadata": {
        "id": "2XB28YXEZfb4"
      },
      "source": [
        "base_i.head()"
      ],
      "execution_count": null,
      "outputs": []
    },
    {
      "cell_type": "code",
      "metadata": {
        "id": "ARxM0e2feWz3"
      },
      "source": [
        "#left merge\n",
        "base_l = datos_MEF.merge( Mortalidad_Violencia, how = \"left\", on =\"CASEID\" ) \n",
        "base_l.shape"
      ],
      "execution_count": null,
      "outputs": []
    },
    {
      "cell_type": "code",
      "metadata": {
        "id": "gjcELGFBQtKZ"
      },
      "source": [
        "base_l.head()"
      ],
      "execution_count": null,
      "outputs": []
    },
    {
      "cell_type": "code",
      "metadata": {
        "id": "5g3tnphrA2cr"
      },
      "source": [
        "#right merge\n",
        "base_r = datos_MEF.merge( Mortalidad_Violencia, how = \"right\", on =\"CASEID\" ) \n",
        "base_r.shape"
      ],
      "execution_count": null,
      "outputs": []
    },
    {
      "cell_type": "code",
      "metadata": {
        "id": "6oJPdM1fTTLn"
      },
      "source": [
        "base_r.head()"
      ],
      "execution_count": null,
      "outputs": []
    },
    {
      "cell_type": "markdown",
      "metadata": {
        "id": "xfMscSFMDd2r"
      },
      "source": [
        "## Gráficos con Matplotlib"
      ]
    },
    {
      "cell_type": "code",
      "metadata": {
        "id": "zzU9MswJJvXE"
      },
      "source": [
        "import matplotlib.pyplot as plt"
      ],
      "execution_count": null,
      "outputs": []
    },
    {
      "cell_type": "markdown",
      "metadata": {
        "id": "QslmBd-AYYOl"
      },
      "source": [
        "Utilizaremos la base de datos \"Casos positivos por COVID-19\" del MINSA\n",
        "\n",
        "Aquí puede descargar la base: https://www.minsa.gob.pe/datosabiertos/?op=22"
      ]
    },
    {
      "cell_type": "code",
      "metadata": {
        "id": "1jNz3gRsTdfc"
      },
      "source": [
        "df_fallecidos = pd.read_csv('fallecidos_covid.csv', delimiter=\";\", encoding = 'latin')\n",
        "\n",
        "df_fallecidos.head()"
      ],
      "execution_count": null,
      "outputs": []
    },
    {
      "cell_type": "markdown",
      "metadata": {
        "id": "b8Z5U_sOauoe"
      },
      "source": [
        "### Gráfico de barras"
      ]
    },
    {
      "cell_type": "code",
      "metadata": {
        "id": "mePRZS4YclBG"
      },
      "source": [
        "#Número de fallecidos según sexo\n",
        "data1 = df_fallecidos.groupby(\"SEXO\").size().to_frame(\"NÚMERO DE MUERTES\").reset_index()\n",
        "\n",
        "data1"
      ],
      "execution_count": null,
      "outputs": []
    },
    {
      "cell_type": "code",
      "metadata": {
        "id": "G7JU-tOFdcVU"
      },
      "source": [
        "data1.drop([0],axis=0,inplace=True) "
      ],
      "execution_count": null,
      "outputs": []
    },
    {
      "cell_type": "code",
      "metadata": {
        "id": "wqjtGdyMdh8c"
      },
      "source": [
        "data1"
      ],
      "execution_count": null,
      "outputs": []
    },
    {
      "cell_type": "code",
      "metadata": {
        "id": "G_U8Oyy1awD9"
      },
      "source": [
        "x = data1['SEXO']\n",
        "y = data1['NÚMERO DE MUERTES']\n",
        "\n",
        "plt.bar( x=x, height= y)"
      ],
      "execution_count": null,
      "outputs": []
    },
    {
      "cell_type": "code",
      "metadata": {
        "id": "WXFg_NahgXxh"
      },
      "source": [
        "plt.bar( x=x, height= y)\n",
        "\n",
        "plt.xlabel('Sexo') \n",
        "plt.ylabel('Número de muertes') \n",
        "  \n",
        "# título\n",
        "plt.title(\"Cantidad de muertos por sexo\")\n",
        "\n",
        "plt.show() "
      ],
      "execution_count": null,
      "outputs": []
    },
    {
      "cell_type": "markdown",
      "metadata": {
        "id": "Y1iZDheNaadX"
      },
      "source": [
        "### Histogramas"
      ]
    },
    {
      "cell_type": "code",
      "metadata": {
        "id": "sLikWelKToIN"
      },
      "source": [
        "#Número de fallecidos por edad\n",
        "plt.hist(x = df_fallecidos[\"EDAD_DECLARADA\"],bins=30)\n",
        "plt.show()"
      ],
      "execution_count": null,
      "outputs": []
    },
    {
      "cell_type": "code",
      "metadata": {
        "id": "2JwJI-SdfCdO"
      },
      "source": [
        "#Porcentaje de fallecidos por edad\n",
        "\n",
        "plt.hist(x = df_fallecidos[\"EDAD_DECLARADA\"],bins=30,density=True)\n",
        "plt.show()"
      ],
      "execution_count": null,
      "outputs": []
    },
    {
      "cell_type": "markdown",
      "metadata": {
        "id": "AN2t7oWja6aB"
      },
      "source": [
        "### Diagrama de cajas"
      ]
    },
    {
      "cell_type": "code",
      "metadata": {
        "id": "5YfJEn3obBuh"
      },
      "source": [
        "plt.boxplot(df_fallecidos[\"EDAD_DECLARADA\"])\n",
        "plt.show()"
      ],
      "execution_count": null,
      "outputs": []
    },
    {
      "cell_type": "markdown",
      "metadata": {
        "id": "_pbu_p1jbCIx"
      },
      "source": [
        "### Gráfico circular\n",
        "\n",
        "\n",
        "\n"
      ]
    },
    {
      "cell_type": "code",
      "metadata": {
        "id": "tRf92JcGfODE"
      },
      "source": [
        "#Número de fallecidos por departamento\n",
        "data2 = df_fallecidos.groupby(\"DEPARTAMENTO\").size().to_frame(\"NÚMERO DE MUERTES\").reset_index()\n",
        "data2"
      ],
      "execution_count": null,
      "outputs": []
    },
    {
      "cell_type": "code",
      "metadata": {
        "id": "t48CIOR8f3br"
      },
      "source": [
        "#Solo nos quedamos con los departamentos que tienen más de 5000 fallecidos\n",
        "data3 = data2[~(data2['NÚMERO DE MUERTES'].values<5000)]\n",
        "data3"
      ],
      "execution_count": null,
      "outputs": []
    },
    {
      "cell_type": "code",
      "metadata": {
        "id": "25itb7nQbg9s"
      },
      "source": [
        "plt.pie( data3[\"NÚMERO DE MUERTES\"], labels = data3[\"DEPARTAMENTO\"])\n",
        "plt.show() "
      ],
      "execution_count": null,
      "outputs": []
    },
    {
      "cell_type": "markdown",
      "metadata": {
        "id": "JlP_rU2ObYzr"
      },
      "source": [
        "### Gráfico de dispersión"
      ]
    },
    {
      "cell_type": "code",
      "metadata": {
        "id": "kyqWaCUZbhVb"
      },
      "source": [
        "x = np.array([5,7,8,7,2,17,2,9,4,11,12,9,6])\n",
        "y = np.array([99,86,87,88,111,86,103,87,94,78,77,85,86])\n",
        "\n",
        "plt.scatter(x, y)\n",
        "plt.show() "
      ],
      "execution_count": null,
      "outputs": []
    }
  ]
}