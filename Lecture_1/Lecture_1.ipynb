{
  "nbformat": 4,
  "nbformat_minor": 0,
  "metadata": {
    "colab": {
      "name": "Taller_clase1.ipynb",
      "provenance": [],
      "collapsed_sections": [
        "ZBK-BJZnIeAb",
        "mwJck-HPIWPL",
        "hCB4qsTdfGhp",
        "sPpxE5Ul4l2L",
        "j_UNbKv_i8AB",
        "MY2q5cH_k42-",
        "DRRls_kUErFn",
        "BtbVA3tJ744F"
      ]
    },
    "kernelspec": {
      "name": "python3",
      "display_name": "Python 3"
    },
    "language_info": {
      "name": "python"
    }
  },
  "cells": [
    {
      "cell_type": "markdown",
      "metadata": {
        "id": "cBy83B1beU5z"
      },
      "source": [
        "# CLASE 1"
      ]
    },
    {
      "cell_type": "markdown",
      "metadata": {
        "id": "ZBK-BJZnIeAb"
      },
      "source": [
        "## Información sobre Python"
      ]
    },
    {
      "cell_type": "markdown",
      "metadata": {
        "id": "nMD79topIhuz"
      },
      "source": [
        "**¿Qué es Python?**\n",
        "\n",
        "Es lenguaje de programación de computadores que se usa a menudo para crear páginas web y software, automatizar tareas y realizar análisis de datos.\n",
        "\n",
        "\n",
        "\n",
        "\n"
      ]
    },
    {
      "cell_type": "markdown",
      "metadata": {
        "id": "O-oaUAFhQCkF"
      },
      "source": [
        "Su popularidad radica en lo siguiente:\n",
        "\n",
        "*   Hay una gran cantidad de librerias con tipos de datos y funciones incorporadas que permiten facilitar la realización de tareas\n",
        "\n",
        "*   La sencillez y velocidad con lo que se crean los programas\n",
        "\n",
        "* Es gratuito\n"
      ]
    },
    {
      "cell_type": "markdown",
      "metadata": {
        "id": "PtJSJX5tRP8c"
      },
      "source": [
        "**¿Por qué aprender Python?**\n",
        "\n",
        "\n",
        "*   Es extremadamente versátil con múltiples usos: Minería de Datos, Ciencia de Datos, Inteligencia Aritificial, Machine Learning, entre otros.\n",
        "*  Es fácil de leer, escribir y aprender. La sintaxis es simple.\n",
        "* Python tiene una gran comunidad de soporte. \n",
        "* Paquetes de uso abierto/libre. \n",
        "\n",
        "\n",
        "\n",
        "\n",
        "\n"
      ]
    },
    {
      "cell_type": "markdown",
      "metadata": {
        "id": "mwJck-HPIWPL"
      },
      "source": [
        "## Formas de crear un notebook en Google Colab"
      ]
    },
    {
      "cell_type": "markdown",
      "metadata": {
        "id": "-sAnp0D2IbKs"
      },
      "source": [
        "\n",
        "\n",
        "1.   Ir directamente al siguiente link: https://colab.research.google.com/notebooks/intro.ipynb#recent=true\n",
        "2.   En una carpeta de drive, se puede crear un notebook\n",
        "\n"
      ]
    },
    {
      "cell_type": "markdown",
      "metadata": {
        "id": "hCB4qsTdfGhp"
      },
      "source": [
        "## Conociendo el entorno Google Colab"
      ]
    },
    {
      "cell_type": "markdown",
      "metadata": {
        "id": "cIpCYR1HfSdR"
      },
      "source": [
        "El ambiente Google Colab nos permite escribir comandos de ***Python*** y ejecutarlos en nuestro navegador:\n",
        "\n",
        "*   Sin ninguna configuración previa\n",
        "*   Acceso gratuito a GPUs\n",
        "*   Facil de compartir\n",
        "\n",
        "Para mayor información, puede revisar el siguiente link:\n",
        "*   [¿Qué es Google Colab?](https://colab.research.google.com/notebooks/intro.ipynb)"
      ]
    },
    {
      "cell_type": "markdown",
      "metadata": {
        "id": "1wiXOj9IrN-7"
      },
      "source": [
        "## Conceptos básicos de Python\n"
      ]
    },
    {
      "cell_type": "markdown",
      "metadata": {
        "id": "pqgvBSlEul6b"
      },
      "source": [
        "**Impresión/Printing**"
      ]
    },
    {
      "cell_type": "markdown",
      "metadata": {
        "id": "VsuePYQ1Ffmm"
      },
      "source": [
        "La función print () toma cualquier número de parámetros y los imprime en una línea de texto."
      ]
    },
    {
      "cell_type": "code",
      "metadata": {
        "colab": {
          "base_uri": "https://localhost:8080/"
        },
        "id": "ZV_KQcxcrMx0",
        "outputId": "3b259bb9-1742-42fc-eb40-4dabf296e59e"
      },
      "source": [
        "print(\"Hola, Mundo\")"
      ],
      "execution_count": null,
      "outputs": [
        {
          "output_type": "stream",
          "name": "stdout",
          "text": [
            "Hola, Mundo\n"
          ]
        }
      ]
    },
    {
      "cell_type": "code",
      "metadata": {
        "colab": {
          "base_uri": "https://localhost:8080/"
        },
        "id": "en2jvL2rtzFs",
        "outputId": "18acf4d1-fdf2-42fe-ab2e-762c34c50767"
      },
      "source": [
        "print('''Hoy comenzó la primera clase del taller de Python.\n",
        " Esta clase es introductoria.\n",
        " Sin embargo, será de gran utilidad para las siguientes.''')"
      ],
      "execution_count": null,
      "outputs": [
        {
          "output_type": "stream",
          "name": "stdout",
          "text": [
            "Hoy comenzó la primera clase del taller de Python.\n",
            " Esta clase es introductoria.\n",
            " Sin embargo, será de gran utilidad para las siguientes.\n"
          ]
        }
      ]
    },
    {
      "cell_type": "code",
      "metadata": {
        "colab": {
          "base_uri": "https://localhost:8080/"
        },
        "id": "ZzTRebtXJipZ",
        "outputId": "422c4f6f-9c45-4215-d97a-b7e1dda6c889"
      },
      "source": [
        "print(\"Lunes\",\"Martes\",\"Miércoles\",\"Jueves\",\"Viernes\",\"Sábado\",\"Domingo\") "
      ],
      "execution_count": null,
      "outputs": [
        {
          "output_type": "stream",
          "name": "stdout",
          "text": [
            "Lunes Martes Miércoles Jueves Viernes Sábado Domingo\n"
          ]
        }
      ]
    },
    {
      "cell_type": "code",
      "metadata": {
        "colab": {
          "base_uri": "https://localhost:8080/"
        },
        "id": "VOZdiUPjJ7GM",
        "outputId": "1e0e4a99-6cda-4977-b65c-c026479f78b0"
      },
      "source": [
        "print(\"Lunes\",\"Martes\",\"Miércoles\",\"Jueves\",\"Viernes\",\"Sábado\",\"Domingo\",sep='\\n') "
      ],
      "execution_count": null,
      "outputs": [
        {
          "output_type": "stream",
          "name": "stdout",
          "text": [
            "Lunes\n",
            "Martes\n",
            "Miércoles\n",
            "Jueves\n",
            "Viernes\n",
            "Sábado\n",
            "Domingo\n"
          ]
        }
      ]
    },
    {
      "cell_type": "markdown",
      "metadata": {
        "id": "YsP5zXKJvidS"
      },
      "source": [
        "**Operadores aritméticos**"
      ]
    },
    {
      "cell_type": "markdown",
      "metadata": {
        "id": "zcD0fporK_mE"
      },
      "source": [
        "Funciona como una calculadora. Toma valores, realiza una operación y arroja el resultado"
      ]
    },
    {
      "cell_type": "markdown",
      "metadata": {
        "id": "W1mlaRGELgDe"
      },
      "source": [
        "Los siguientes operadores aritméticos están disponibles en Python:\n",
        "\n",
        "\n",
        "*   +(suma)\n",
        "*   -(resta)\n",
        "* *(multiplicación)\n",
        "* /(división)\n",
        "* //(cociente)\n",
        "* %(módulo o resto)\n",
        "* **(exponencial)"
      ]
    },
    {
      "cell_type": "code",
      "metadata": {
        "colab": {
          "base_uri": "https://localhost:8080/"
        },
        "id": "Vj9o4fBxNamb",
        "outputId": "93b249cb-aff5-4130-ec2b-d593a1a124ce"
      },
      "source": [
        "#suma\n",
        "5+41  "
      ],
      "execution_count": null,
      "outputs": [
        {
          "output_type": "execute_result",
          "data": {
            "text/plain": [
              "46"
            ]
          },
          "metadata": {},
          "execution_count": 16
        }
      ]
    },
    {
      "cell_type": "code",
      "metadata": {
        "colab": {
          "base_uri": "https://localhost:8080/"
        },
        "id": "GQBMSPzINe6e",
        "outputId": "0d29ecdd-df05-4bca-dc6e-2c857947e0de"
      },
      "source": [
        "#resta\n",
        "12-4"
      ],
      "execution_count": null,
      "outputs": [
        {
          "output_type": "execute_result",
          "data": {
            "text/plain": [
              "8"
            ]
          },
          "metadata": {},
          "execution_count": 17
        }
      ]
    },
    {
      "cell_type": "code",
      "metadata": {
        "colab": {
          "base_uri": "https://localhost:8080/"
        },
        "id": "NsxFQIYxPs33",
        "outputId": "0ff27c8b-8602-4efe-9fc6-0690ddada5ad"
      },
      "source": [
        "#multiplicación\n",
        "12*4"
      ],
      "execution_count": null,
      "outputs": [
        {
          "output_type": "execute_result",
          "data": {
            "text/plain": [
              "48"
            ]
          },
          "metadata": {},
          "execution_count": 19
        }
      ]
    },
    {
      "cell_type": "code",
      "metadata": {
        "colab": {
          "base_uri": "https://localhost:8080/"
        },
        "id": "mFS99UieQAGO",
        "outputId": "d0c52e6d-0c8e-4a5f-f514-aefaffa101bd"
      },
      "source": [
        "#división\n",
        "25/5"
      ],
      "execution_count": null,
      "outputs": [
        {
          "output_type": "execute_result",
          "data": {
            "text/plain": [
              "5.0"
            ]
          },
          "metadata": {},
          "execution_count": 21
        }
      ]
    },
    {
      "cell_type": "code",
      "metadata": {
        "colab": {
          "base_uri": "https://localhost:8080/"
        },
        "id": "pM8D3eWwNjyP",
        "outputId": "40699378-2ee9-442b-8cb3-7207d012beaa"
      },
      "source": [
        "#exponencial\n",
        "2**4"
      ],
      "execution_count": null,
      "outputs": [
        {
          "output_type": "execute_result",
          "data": {
            "text/plain": [
              "16"
            ]
          },
          "metadata": {},
          "execution_count": 20
        }
      ]
    },
    {
      "cell_type": "code",
      "metadata": {
        "colab": {
          "base_uri": "https://localhost:8080/"
        },
        "id": "xqFvFkYkP-s3",
        "outputId": "1e721d15-5373-4c19-e673-d3519e54004a"
      },
      "source": [
        "#combinando operaciones a partir del uso de objetos\n",
        "a = 5+41  \n",
        "b = 2**4\n",
        "\n",
        "a*b"
      ],
      "execution_count": null,
      "outputs": [
        {
          "output_type": "execute_result",
          "data": {
            "text/plain": [
              "736"
            ]
          },
          "metadata": {},
          "execution_count": 22
        }
      ]
    },
    {
      "cell_type": "code",
      "metadata": {
        "colab": {
          "base_uri": "https://localhost:8080/"
        },
        "id": "9IrT1j3kQgWn",
        "outputId": "48b40e8c-05b9-4c6e-85ce-b8e07d7d94d4"
      },
      "source": [
        "(5+41)*(2**4)"
      ],
      "execution_count": null,
      "outputs": [
        {
          "output_type": "execute_result",
          "data": {
            "text/plain": [
              "736"
            ]
          },
          "metadata": {},
          "execution_count": 23
        }
      ]
    },
    {
      "cell_type": "markdown",
      "metadata": {
        "id": "F0pNs6AaSCKk"
      },
      "source": [
        "**Operadores de comparación**"
      ]
    },
    {
      "cell_type": "markdown",
      "metadata": {
        "id": "loOVEheHSHg-"
      },
      "source": [
        "Estos operadores comparan dos valores y los evalúan como verdaderos o\n",
        "falsos. Los siguientes operadores de comparación son compatibles con Python:\n",
        "\n",
        "* (>): mayor que \n",
        "* (<): menor que\n",
        "* (<=) : menor o igual que \n",
        "* (>=): mayor o igual que\n",
        "* (==): igualdad. \n",
        "Tenga en cuenta que esto es diferente del\n",
        "operador de asignación (=)\n",
        "* (!=): no igual que/ diferente de \n",
        "\n",
        "\n"
      ]
    },
    {
      "cell_type": "code",
      "metadata": {
        "colab": {
          "base_uri": "https://localhost:8080/"
        },
        "id": "ExXr_z_jSGz4",
        "outputId": "4ac72b79-76cd-4084-83fa-5ad0dda7e44b"
      },
      "source": [
        "#mayor que\n",
        "2>1 "
      ],
      "execution_count": null,
      "outputs": [
        {
          "output_type": "execute_result",
          "data": {
            "text/plain": [
              "True"
            ]
          },
          "metadata": {},
          "execution_count": 28
        }
      ]
    },
    {
      "cell_type": "code",
      "metadata": {
        "colab": {
          "base_uri": "https://localhost:8080/"
        },
        "id": "IIqs92OBUB7w",
        "outputId": "b65058e0-7881-4eef-ec32-ab4658473809"
      },
      "source": [
        "#menor que \n",
        "10<20"
      ],
      "execution_count": null,
      "outputs": [
        {
          "output_type": "execute_result",
          "data": {
            "text/plain": [
              "True"
            ]
          },
          "metadata": {},
          "execution_count": 29
        }
      ]
    },
    {
      "cell_type": "code",
      "metadata": {
        "colab": {
          "base_uri": "https://localhost:8080/"
        },
        "id": "HVNSMI92UG4C",
        "outputId": "b7c785bf-eaeb-4e78-87dd-fdd58a84df74"
      },
      "source": [
        "#menor igual que \n",
        "10<=10 "
      ],
      "execution_count": null,
      "outputs": [
        {
          "output_type": "execute_result",
          "data": {
            "text/plain": [
              "True"
            ]
          },
          "metadata": {},
          "execution_count": 30
        }
      ]
    },
    {
      "cell_type": "code",
      "metadata": {
        "colab": {
          "base_uri": "https://localhost:8080/"
        },
        "id": "IuGdfVguUKiu",
        "outputId": "e910f47c-c6e0-4ad8-869e-accdee8edaa0"
      },
      "source": [
        "#mayor igual que \n",
        "20>=10"
      ],
      "execution_count": null,
      "outputs": [
        {
          "output_type": "execute_result",
          "data": {
            "text/plain": [
              "True"
            ]
          },
          "metadata": {},
          "execution_count": 31
        }
      ]
    },
    {
      "cell_type": "code",
      "metadata": {
        "colab": {
          "base_uri": "https://localhost:8080/"
        },
        "id": "evsfjL4ZURhv",
        "outputId": "46a73c84-c67f-4dd8-cc4d-91a0659bed10"
      },
      "source": [
        "#igualdad \n",
        "30==30"
      ],
      "execution_count": null,
      "outputs": [
        {
          "output_type": "execute_result",
          "data": {
            "text/plain": [
              "True"
            ]
          },
          "metadata": {},
          "execution_count": 32
        }
      ]
    },
    {
      "cell_type": "markdown",
      "metadata": {
        "id": "DL1gczwFUb5T"
      },
      "source": [
        "\n",
        "\n",
        "> El operador de comparación (==) es distinto al de asignación (=)\n",
        "\n",
        "\n",
        "\n",
        "\n"
      ]
    },
    {
      "cell_type": "code",
      "metadata": {
        "id": "jk4bvgGzUXUP"
      },
      "source": [
        "#30=30"
      ],
      "execution_count": null,
      "outputs": []
    },
    {
      "cell_type": "code",
      "metadata": {
        "id": "tkqNsiYAWcym"
      },
      "source": [
        "a = 30\n",
        "Nombre = \"Mariano\""
      ],
      "execution_count": null,
      "outputs": []
    },
    {
      "cell_type": "code",
      "metadata": {
        "colab": {
          "base_uri": "https://localhost:8080/"
        },
        "id": "xxUvOSauUS7G",
        "outputId": "f2706d4f-1093-4cb1-f266-47027a8c4b8f"
      },
      "source": [
        "print(a)\n",
        "print(Nombre)"
      ],
      "execution_count": null,
      "outputs": [
        {
          "output_type": "stream",
          "name": "stdout",
          "text": [
            "30\n",
            "Mariano\n"
          ]
        }
      ]
    },
    {
      "cell_type": "code",
      "metadata": {
        "colab": {
          "base_uri": "https://localhost:8080/"
        },
        "id": "RmvoQU1WW7pg",
        "outputId": "1918889f-e21d-47bc-afcb-3e8f3bce92c0"
      },
      "source": [
        "#no igual que \n",
        "40!=30  "
      ],
      "execution_count": null,
      "outputs": [
        {
          "output_type": "execute_result",
          "data": {
            "text/plain": [
              "True"
            ]
          },
          "metadata": {},
          "execution_count": 42
        }
      ]
    },
    {
      "cell_type": "markdown",
      "metadata": {
        "id": "IGBV_dnmXC-7"
      },
      "source": [
        "**Operadores lógicos (o booleanos)**"
      ]
    },
    {
      "cell_type": "markdown",
      "metadata": {
        "id": "e0V2mrpgXOmy"
      },
      "source": [
        "Son similares a los operadores de comparación, ya que estos también evaluán si un valor es verdadero o falso. Estos operadores operan sobre variables booleanas o expresiones. Los siguientes operadores lógicos son compatibles con Python:\n",
        "\n",
        "\n"
      ]
    },
    {
      "cell_type": "markdown",
      "metadata": {
        "id": "G7bgWPDtYWbX"
      },
      "source": [
        "* *operador \"and\"*: Este operador evalúa como Verdadero la expresión solo si todas sus subexpresiones son Verdaderas. De lo contrario, si alguno de ellos es Falso, la expresión se evalúa como Falso"
      ]
    },
    {
      "cell_type": "code",
      "metadata": {
        "colab": {
          "base_uri": "https://localhost:8080/"
        },
        "id": "LmWC8C-y0laC",
        "outputId": "ad1615ea-1e4f-42f0-c529-821a675d6e18"
      },
      "source": [
        "print( (3>2) and (2>4) )     # V  V = V\n",
        "print( (3==3) and (3>2) )    # V  F = F"
      ],
      "execution_count": null,
      "outputs": [
        {
          "output_type": "stream",
          "name": "stdout",
          "text": [
            "False\n",
            "True\n"
          ]
        }
      ]
    },
    {
      "cell_type": "markdown",
      "metadata": {
        "id": "ozHzHuHiYxEu"
      },
      "source": [
        "* *operador \"or\"*: Este operador evalúa la expresión como Verdadero si es que alguna de sus subexpresiones es Verdadera. La expresión se evalúa como Falso si todas sus subexpresiones se evalúan como\n",
        "Falso."
      ]
    },
    {
      "cell_type": "code",
      "metadata": {
        "colab": {
          "base_uri": "https://localhost:8080/"
        },
        "id": "qz92YqbGZedf",
        "outputId": "3eb47105-1323-4423-b68a-2ee29c04af52"
      },
      "source": [
        "(5>2) or (2>4)    # V  F = V"
      ],
      "execution_count": null,
      "outputs": [
        {
          "output_type": "execute_result",
          "data": {
            "text/plain": [
              "True"
            ]
          },
          "metadata": {},
          "execution_count": 48
        }
      ]
    },
    {
      "cell_type": "code",
      "metadata": {
        "id": "1mfNs9NUbL2S"
      },
      "source": [
        "Alumno = \"Daniel\""
      ],
      "execution_count": null,
      "outputs": []
    },
    {
      "cell_type": "code",
      "metadata": {
        "colab": {
          "base_uri": "https://localhost:8080/"
        },
        "id": "XWbVa45GahiA",
        "outputId": "c478062f-39bf-408c-a40a-a84bd7fa69f9"
      },
      "source": [
        "(50/10 != 5) or (\"Daniel\" == Alumno)    #F V = V"
      ],
      "execution_count": null,
      "outputs": [
        {
          "output_type": "execute_result",
          "data": {
            "text/plain": [
              "True"
            ]
          },
          "metadata": {},
          "execution_count": 52
        }
      ]
    },
    {
      "cell_type": "markdown",
      "metadata": {
        "id": "stcGd9u9ZkEe"
      },
      "source": [
        "* *operador \"not\"*: Este operador evalúa la expresión como Verdadero si es que la expresión es Falso, y viceversa."
      ]
    },
    {
      "cell_type": "code",
      "metadata": {
        "colab": {
          "base_uri": "https://localhost:8080/"
        },
        "id": "KxCEtE5yZe32",
        "outputId": "847909ca-42f9-4b97-ecb6-87c4443dc70f"
      },
      "source": [
        "not(1>2)    "
      ],
      "execution_count": null,
      "outputs": [
        {
          "output_type": "execute_result",
          "data": {
            "text/plain": [
              "True"
            ]
          },
          "metadata": {},
          "execution_count": 47
        }
      ]
    },
    {
      "cell_type": "markdown",
      "metadata": {
        "id": "sPpxE5Ul4l2L"
      },
      "source": [
        "## Variables y tipos de datos simples"
      ]
    },
    {
      "cell_type": "markdown",
      "metadata": {
        "id": "WGGTrszuhEtO"
      },
      "source": [
        "### Creación de variables"
      ]
    },
    {
      "cell_type": "markdown",
      "metadata": {
        "id": "z1hl0ipxeFqd"
      },
      "source": [
        "Cada variable está conectada a un valor, que es la información asociada con esa variable."
      ]
    },
    {
      "cell_type": "markdown",
      "metadata": {
        "id": "e9zQAyGFePvd"
      },
      "source": [
        "Cuando usa variables en Python, debe cumplir con algunas reglas\n",
        "y directrices. Es importante tener en cuenta las siguientes reglas de variables:\n",
        "\n",
        "\n",
        "\n",
        "*   Los nombres de las variables solo pueden contener letras, números y guiones bajos. Pueden comenzar con una letra o un guión bajo, pero no con un número.\n",
        "*  No se permiten espacios en los nombres de las variables, pero se pueden usar guiones bajos\n",
        "para separar palabras en nombres de variables. Por ejemplo, mensaje_saludo.\n",
        "* Recomendación: Los nombres de las variables deben ser breves, pero descriptivos."
      ]
    },
    {
      "cell_type": "code",
      "metadata": {
        "colab": {
          "base_uri": "https://localhost:8080/"
        },
        "id": "sd6fZ7S55Bf3",
        "outputId": "4389aa74-55bf-458b-c54c-78eb4d15db80"
      },
      "source": [
        "mensaje = \"Hola, mundo\"   \n",
        "print(mensaje)"
      ],
      "execution_count": null,
      "outputs": [
        {
          "output_type": "stream",
          "name": "stdout",
          "text": [
            "Hola, mundo\n"
          ]
        }
      ]
    },
    {
      "cell_type": "code",
      "metadata": {
        "colab": {
          "base_uri": "https://localhost:8080/"
        },
        "id": "FGU6LpdHhBm5",
        "outputId": "1ce78ced-18b9-4480-c376-5ed89c88c7ab"
      },
      "source": [
        "promedio1 = (14+16+15+19)/4\n",
        "print(promedio1)"
      ],
      "execution_count": null,
      "outputs": [
        {
          "output_type": "stream",
          "name": "stdout",
          "text": [
            "16.0\n"
          ]
        }
      ]
    },
    {
      "cell_type": "code",
      "metadata": {
        "colab": {
          "base_uri": "https://localhost:8080/"
        },
        "id": "54afZ50XhCI3",
        "outputId": "3fbdbfb1-8cfd-4a3b-d0dc-cbca8eecf3d5"
      },
      "source": [
        "promedio2 = (12+20+11+15)/4\n",
        "print(promedio2)"
      ],
      "execution_count": null,
      "outputs": [
        {
          "output_type": "stream",
          "name": "stdout",
          "text": [
            "14.5\n"
          ]
        }
      ]
    },
    {
      "cell_type": "markdown",
      "metadata": {
        "id": "NHVUIbMwhTum"
      },
      "source": [
        "**Operaciones utilizando variables**"
      ]
    },
    {
      "cell_type": "code",
      "metadata": {
        "colab": {
          "base_uri": "https://localhost:8080/"
        },
        "id": "ZvpmA2PphDzF",
        "outputId": "268d475d-420b-4b10-c845-cba8c643fa78"
      },
      "source": [
        "promedio_final = (promedio1 + promedio2)/2\n",
        "print(promedio_final)"
      ],
      "execution_count": null,
      "outputs": [
        {
          "output_type": "stream",
          "name": "stdout",
          "text": [
            "15.25\n"
          ]
        }
      ]
    },
    {
      "cell_type": "markdown",
      "metadata": {
        "id": "j_UNbKv_i8AB"
      },
      "source": [
        "### Strings\n",
        "\n"
      ]
    },
    {
      "cell_type": "markdown",
      "metadata": {
        "id": "Evl7sCjD8GOY"
      },
      "source": [
        "Es una serie de caracteres. Todo aquello que esté en comillas es considerado string en Python. Se pueden utilizar comillas simples o dobles alrededor de sus string."
      ]
    },
    {
      "cell_type": "code",
      "metadata": {
        "colab": {
          "base_uri": "https://localhost:8080/",
          "height": 35
        },
        "id": "8sNTZ1jDiZJn",
        "outputId": "7fc05657-7268-414c-e9da-072d37c41c6a"
      },
      "source": [
        "\"Esto es un string.\""
      ],
      "execution_count": null,
      "outputs": [
        {
          "output_type": "execute_result",
          "data": {
            "application/vnd.google.colaboratory.intrinsic+json": {
              "type": "string"
            },
            "text/plain": [
              "'Esto es un string.'"
            ]
          },
          "metadata": {},
          "execution_count": 68
        }
      ]
    },
    {
      "cell_type": "code",
      "metadata": {
        "colab": {
          "base_uri": "https://localhost:8080/",
          "height": 35
        },
        "id": "5prkQNnriexP",
        "outputId": "02beaae4-1336-4c1f-985c-5d9baf860662"
      },
      "source": [
        "'Esto también es un string.'"
      ],
      "execution_count": null,
      "outputs": [
        {
          "output_type": "execute_result",
          "data": {
            "application/vnd.google.colaboratory.intrinsic+json": {
              "type": "string"
            },
            "text/plain": [
              "'Esto también es un string.'"
            ]
          },
          "metadata": {},
          "execution_count": 69
        }
      ]
    },
    {
      "cell_type": "code",
      "metadata": {
        "colab": {
          "base_uri": "https://localhost:8080/"
        },
        "id": "RS_z4In8-xQ1",
        "outputId": "0cc85389-60e5-43c6-8b10-06b386e8ef79"
      },
      "source": [
        "nombre = \"maTeo pereZ\"\n",
        "print(nombre)"
      ],
      "execution_count": null,
      "outputs": [
        {
          "output_type": "stream",
          "name": "stdout",
          "text": [
            "maTeo pereZ\n"
          ]
        }
      ]
    },
    {
      "cell_type": "markdown",
      "metadata": {
        "id": "bl3z9MGjivDW"
      },
      "source": [
        "**Cambiar mayúsculas y minúsculas en un string**"
      ]
    },
    {
      "cell_type": "code",
      "metadata": {
        "colab": {
          "base_uri": "https://localhost:8080/"
        },
        "id": "skYNf0olh5Om",
        "outputId": "64cec150-cfa2-41d1-fc4b-d214d40ff80d"
      },
      "source": [
        "print(nombre.title())"
      ],
      "execution_count": null,
      "outputs": [
        {
          "output_type": "stream",
          "name": "stdout",
          "text": [
            "Mateo Perez\n"
          ]
        }
      ]
    },
    {
      "cell_type": "code",
      "metadata": {
        "colab": {
          "base_uri": "https://localhost:8080/"
        },
        "id": "cSqex03Zh5vl",
        "outputId": "ae3943da-bb02-46d4-da81-25e58563b334"
      },
      "source": [
        "print(nombre.upper())"
      ],
      "execution_count": null,
      "outputs": [
        {
          "output_type": "stream",
          "name": "stdout",
          "text": [
            "MATEO PEREZ\n"
          ]
        }
      ]
    },
    {
      "cell_type": "code",
      "metadata": {
        "colab": {
          "base_uri": "https://localhost:8080/"
        },
        "id": "HhvMXmINh7cH",
        "outputId": "757634f2-83ba-461e-9401-30b3f59466d8"
      },
      "source": [
        "print(nombre.lower())"
      ],
      "execution_count": null,
      "outputs": [
        {
          "output_type": "stream",
          "name": "stdout",
          "text": [
            "mateo perez\n"
          ]
        }
      ]
    },
    {
      "cell_type": "markdown",
      "metadata": {
        "id": "4Kr9dTqxjcXR"
      },
      "source": [
        "**Usando variables en strings**"
      ]
    },
    {
      "cell_type": "code",
      "metadata": {
        "id": "r2GgbJX8_Y7j"
      },
      "source": [
        "primer_nombre = \"mateo\"\n",
        "apellido = \"perez\""
      ],
      "execution_count": null,
      "outputs": []
    },
    {
      "cell_type": "markdown",
      "metadata": {
        "id": "wA2M7fTJj57u"
      },
      "source": [
        "\n",
        "> Para insertar el valor de una variable en un string, coloque la letra f inmediatamente antes de las comillas de apertura\n",
        "\n",
        "\n"
      ]
    },
    {
      "cell_type": "code",
      "metadata": {
        "colab": {
          "base_uri": "https://localhost:8080/"
        },
        "id": "5X29Pi0GjqeW",
        "outputId": "efd2b804-1211-4c15-d577-1110d8614a7f"
      },
      "source": [
        "nombre_completo = f\"{primer_nombre} {apellido} Rodriguez\"   #f-strings\n",
        "print(nombre_completo)"
      ],
      "execution_count": null,
      "outputs": [
        {
          "output_type": "stream",
          "name": "stdout",
          "text": [
            "mateo perez Rodriguez\n"
          ]
        }
      ]
    },
    {
      "cell_type": "code",
      "metadata": {
        "colab": {
          "base_uri": "https://localhost:8080/"
        },
        "id": "ctWaPdQmjq3f",
        "outputId": "422d6844-358c-4eeb-cda0-95f020724e8f"
      },
      "source": [
        "saludo1 = f\"Hola, {nombre_completo}\"   #f-strings\n",
        "print(saludo1)"
      ],
      "execution_count": null,
      "outputs": [
        {
          "output_type": "stream",
          "name": "stdout",
          "text": [
            "Hola, mateo perez Rodriguez\n"
          ]
        }
      ]
    },
    {
      "cell_type": "code",
      "metadata": {
        "colab": {
          "base_uri": "https://localhost:8080/"
        },
        "id": "VvpThcN7kZS1",
        "outputId": "f1939477-2372-4a68-dc0f-dde09bf0a37d"
      },
      "source": [
        "saludo2 = f\"Hola, {nombre_completo.title()}\"   #f-strings\n",
        "print(saludo2)"
      ],
      "execution_count": null,
      "outputs": [
        {
          "output_type": "stream",
          "name": "stdout",
          "text": [
            "Hola, Mateo Perez Rodriguez\n"
          ]
        }
      ]
    },
    {
      "cell_type": "markdown",
      "metadata": {
        "id": "MY2q5cH_k42-"
      },
      "source": [
        "### Integers"
      ]
    },
    {
      "cell_type": "markdown",
      "metadata": {
        "id": "W4kuG3C28ntg"
      },
      "source": [
        "Son números sin decimales."
      ]
    },
    {
      "cell_type": "code",
      "metadata": {
        "colab": {
          "base_uri": "https://localhost:8080/"
        },
        "id": "yyTHmd-CIN0e",
        "outputId": "6576cd61-f4b9-4c2c-de8d-54c55484e786"
      },
      "source": [
        "2 + 3*4"
      ],
      "execution_count": null,
      "outputs": [
        {
          "output_type": "execute_result",
          "data": {
            "text/plain": [
              "14"
            ]
          },
          "metadata": {},
          "execution_count": 83
        }
      ]
    },
    {
      "cell_type": "code",
      "metadata": {
        "colab": {
          "base_uri": "https://localhost:8080/"
        },
        "id": "lVRVfXRNA1og",
        "outputId": "0c79b272-9b2d-4b66-9585-ae4877b4bbad"
      },
      "source": [
        "10000*2"
      ],
      "execution_count": null,
      "outputs": [
        {
          "output_type": "execute_result",
          "data": {
            "text/plain": [
              "20000"
            ]
          },
          "metadata": {},
          "execution_count": 76
        }
      ]
    },
    {
      "cell_type": "code",
      "metadata": {
        "id": "wXGkt68_EKOL"
      },
      "source": [
        "x, y, z = 10, 50, 63  #asignación múltiple de variables"
      ],
      "execution_count": null,
      "outputs": []
    },
    {
      "cell_type": "code",
      "metadata": {
        "colab": {
          "base_uri": "https://localhost:8080/"
        },
        "id": "_-3p55E3lMGM",
        "outputId": "373f3fbd-aba2-48a9-e8a2-8f272efcdbac"
      },
      "source": [
        "print(x)\n",
        "print(y)\n",
        "print(z)"
      ],
      "execution_count": null,
      "outputs": [
        {
          "output_type": "stream",
          "name": "stdout",
          "text": [
            "10\n",
            "50\n",
            "63\n"
          ]
        }
      ]
    },
    {
      "cell_type": "markdown",
      "metadata": {
        "id": "S1lo14Hv-hAi"
      },
      "source": [
        "### Floats "
      ]
    },
    {
      "cell_type": "markdown",
      "metadata": {
        "id": "JO5g9IeDlVGd"
      },
      "source": [
        "Son números con decimales."
      ]
    },
    {
      "cell_type": "code",
      "metadata": {
        "colab": {
          "base_uri": "https://localhost:8080/"
        },
        "id": "mDUHi0HhDnky",
        "outputId": "b32119ff-b6ca-4653-ab55-b96cdc44405b"
      },
      "source": [
        "2*0.6"
      ],
      "execution_count": null,
      "outputs": [
        {
          "output_type": "execute_result",
          "data": {
            "text/plain": [
              "1.2"
            ]
          },
          "metadata": {},
          "execution_count": 80
        }
      ]
    },
    {
      "cell_type": "markdown",
      "metadata": {
        "id": "UmJlbJRHIslo"
      },
      "source": [
        "Tenga en cuenta que a veces puede obtener un número arbitrario en algún decimal en su respuesta. Python intenta encontrar una manera de representar el resultado con la mayor precisión posible, que a veces es difícil dada la forma en que las computadoras tienen que representar números internamente."
      ]
    },
    {
      "cell_type": "code",
      "metadata": {
        "colab": {
          "base_uri": "https://localhost:8080/"
        },
        "id": "pUBC7hpj8V7w",
        "outputId": "02061622-8e22-4ebc-e9a6-b081d8407d96"
      },
      "source": [
        "print(0.2+0.1)    #Ojo con esto\n",
        "\n",
        "print(3*0.1)"
      ],
      "execution_count": null,
      "outputs": [
        {
          "output_type": "stream",
          "name": "stdout",
          "text": [
            "0.30000000000000004\n",
            "0.30000000000000004\n"
          ]
        }
      ]
    },
    {
      "cell_type": "markdown",
      "metadata": {
        "id": "DRRls_kUErFn"
      },
      "source": [
        "## Listas"
      ]
    },
    {
      "cell_type": "markdown",
      "metadata": {
        "id": "1cqNvqbSJZrI"
      },
      "source": [
        "Una lista es una colección de elementos en un orden particular. Puede poner lo que quiera en una lista y los elementos de su lista no tienen que estar relacionados de ninguna manera en particular. "
      ]
    },
    {
      "cell_type": "markdown",
      "metadata": {
        "id": "LlsLG5WMJ6kx"
      },
      "source": [
        "En Python, los corchetes ([ ]) indican una lista y los elementos individuales\n",
        "en la lista están separados por comas."
      ]
    },
    {
      "cell_type": "code",
      "metadata": {
        "colab": {
          "base_uri": "https://localhost:8080/"
        },
        "id": "1Zl9rfsjEyhJ",
        "outputId": "9aa2176f-3feb-4980-ea3c-6267b989ec89"
      },
      "source": [
        "frutas = ['mAnzAna', 'pera', 'uva', 'sandía']\n",
        "print(frutas)"
      ],
      "execution_count": null,
      "outputs": [
        {
          "output_type": "stream",
          "name": "stdout",
          "text": [
            "['mAnzAna', 'pera', 'uva', 'sandía']\n"
          ]
        }
      ]
    },
    {
      "cell_type": "code",
      "metadata": {
        "colab": {
          "base_uri": "https://localhost:8080/"
        },
        "id": "aDWOFqrMKPGV",
        "outputId": "737fffbc-12b0-4b91-bda8-99b99f3997d0"
      },
      "source": [
        "lista1 = ['a', 2, 'sandia', 2+3, 0.5, frutas]\n",
        "print(lista1)"
      ],
      "execution_count": null,
      "outputs": [
        {
          "output_type": "stream",
          "name": "stdout",
          "text": [
            "['a', 2, 'sandia', 5, 0.5, ['mAnzAna', 'pera', 'uva', 'sandía']]\n"
          ]
        }
      ]
    },
    {
      "cell_type": "markdown",
      "metadata": {
        "id": "lOk0npouKYLi"
      },
      "source": [
        "### Acceder a elementos de una lista"
      ]
    },
    {
      "cell_type": "markdown",
      "metadata": {
        "id": "hT9H25vEK3Ia"
      },
      "source": [
        "Las listas son colecciones ordenadas, por lo que puedes acceder a cualquier elemento de una lista indicandole a Python la posición, o índice, del elemento deseado."
      ]
    },
    {
      "cell_type": "markdown",
      "metadata": {
        "id": "i30N1eFKLr3_"
      },
      "source": [
        "Python considera que el primer elemento de una lista está en la posición 0, no en la posición 1."
      ]
    },
    {
      "cell_type": "code",
      "metadata": {
        "colab": {
          "base_uri": "https://localhost:8080/"
        },
        "id": "tpI3p1J3KshO",
        "outputId": "eb9d117a-395f-4e35-f5f9-da4a7b46e0b8"
      },
      "source": [
        "print(frutas[0])     "
      ],
      "execution_count": null,
      "outputs": [
        {
          "output_type": "stream",
          "name": "stdout",
          "text": [
            "mAnzAna\n"
          ]
        }
      ]
    },
    {
      "cell_type": "code",
      "metadata": {
        "colab": {
          "base_uri": "https://localhost:8080/"
        },
        "id": "vCJfJUorMsD3",
        "outputId": "3ff2ab93-87b9-4f08-e963-f152be111294"
      },
      "source": [
        "print( f\"Mi fruta favorita es la {frutas[0].lower()}\")"
      ],
      "execution_count": null,
      "outputs": [
        {
          "output_type": "stream",
          "name": "stdout",
          "text": [
            "Mi fruta favorita es la manzana\n"
          ]
        }
      ]
    },
    {
      "cell_type": "markdown",
      "metadata": {
        "id": "ST3nSpTrL4U7"
      },
      "source": [
        "El segundo elemento de una lista tiene un índice de 1. Con este sistema de conteo, puedes obtener cualquier elemento que desees de una lista restando uno de\n",
        "su posición en la lista."
      ]
    },
    {
      "cell_type": "code",
      "metadata": {
        "colab": {
          "base_uri": "https://localhost:8080/"
        },
        "id": "pMcL6K_hL0TM",
        "outputId": "23217e01-5ea6-46c8-c2c0-66f195a74f2a"
      },
      "source": [
        "print(frutas[1])"
      ],
      "execution_count": null,
      "outputs": [
        {
          "output_type": "stream",
          "name": "stdout",
          "text": [
            "pera\n"
          ]
        }
      ]
    },
    {
      "cell_type": "markdown",
      "metadata": {
        "id": "frCvgeMOMmAf"
      },
      "source": [
        "Python tiene una sintaxis especial para acceder al último elemento de una lista. Al pedir el elemento en el índice -1, Python siempre devuelve el último elemento de la lista."
      ]
    },
    {
      "cell_type": "code",
      "metadata": {
        "colab": {
          "base_uri": "https://localhost:8080/"
        },
        "id": "S4EDR5B_L2DT",
        "outputId": "f7ae2e08-9433-49da-ac83-e9c087f13d2d"
      },
      "source": [
        "print(frutas[-1])"
      ],
      "execution_count": null,
      "outputs": [
        {
          "output_type": "stream",
          "name": "stdout",
          "text": [
            "sandía\n"
          ]
        }
      ]
    },
    {
      "cell_type": "markdown",
      "metadata": {
        "id": "TTLXlaprNBDH"
      },
      "source": [
        "### Modificando elementos de una lista"
      ]
    },
    {
      "cell_type": "markdown",
      "metadata": {
        "id": "qa9WRHDKNWkO"
      },
      "source": [
        "Para cambiar un elemento, use el nombre de la lista seguida por el índice del elemento que desea cambiar, y luego proporcione el nuevo valor que desea que tenga."
      ]
    },
    {
      "cell_type": "code",
      "metadata": {
        "colab": {
          "base_uri": "https://localhost:8080/"
        },
        "id": "tsz_bfy3NNi-",
        "outputId": "eae9399f-3cfc-4d9d-a5e0-45d026eb5109"
      },
      "source": [
        "frutas = ['manzana', 'pera', 'uva', 'sandía']\n",
        "print(frutas)"
      ],
      "execution_count": null,
      "outputs": [
        {
          "output_type": "stream",
          "name": "stdout",
          "text": [
            "['manzana', 'pera', 'uva', 'sandía']\n"
          ]
        }
      ]
    },
    {
      "cell_type": "code",
      "metadata": {
        "colab": {
          "base_uri": "https://localhost:8080/"
        },
        "id": "jto-3kToNeCe",
        "outputId": "58fcc668-fc20-4fef-9273-0616f34cd170"
      },
      "source": [
        "#modificamos el primer elemento de la lista\n",
        "frutas[0] = 'fresa'            \n",
        "print(frutas)"
      ],
      "execution_count": null,
      "outputs": [
        {
          "output_type": "stream",
          "name": "stdout",
          "text": [
            "['fresa', 'pera', 'uva', 'sandía']\n"
          ]
        }
      ]
    },
    {
      "cell_type": "code",
      "metadata": {
        "colab": {
          "base_uri": "https://localhost:8080/"
        },
        "id": "iCHIYXAqNhPH",
        "outputId": "f8172355-61ec-4dcd-8e47-773cca793fa6"
      },
      "source": [
        "#modificamos el último elemento de la lista\n",
        "frutas[-1] = 'arándanos'            \n",
        "print(frutas)"
      ],
      "execution_count": null,
      "outputs": [
        {
          "output_type": "stream",
          "name": "stdout",
          "text": [
            "['fresa', 'pera', 'uva', 'arándanos']\n"
          ]
        }
      ]
    },
    {
      "cell_type": "markdown",
      "metadata": {
        "id": "v5GjgDEgRFmS"
      },
      "source": [
        "### Añadiendo elementos a la lista"
      ]
    },
    {
      "cell_type": "markdown",
      "metadata": {
        "id": "jx7K-EGRN07v"
      },
      "source": [
        "**Agregando elementos al final de la lista**"
      ]
    },
    {
      "cell_type": "markdown",
      "metadata": {
        "id": "NkrMHJi1O8mb"
      },
      "source": [
        "La forma más sencilla de añadir un nuevo elemento a la lista es *append* el item en la lista."
      ]
    },
    {
      "cell_type": "code",
      "metadata": {
        "colab": {
          "base_uri": "https://localhost:8080/"
        },
        "id": "OIGSUKJnPKSt",
        "outputId": "b39a25c0-17ad-46ed-ce89-f6b67a50b7d6"
      },
      "source": [
        "frutas.append('mango')         \n",
        "print(frutas)"
      ],
      "execution_count": null,
      "outputs": [
        {
          "output_type": "stream",
          "name": "stdout",
          "text": [
            "['fresa', 'pera', 'uva', 'arándanos', 'mango', 'mango']\n"
          ]
        }
      ]
    },
    {
      "cell_type": "code",
      "metadata": {
        "id": "eNA8fmL3Ih8E",
        "colab": {
          "base_uri": "https://localhost:8080/"
        },
        "outputId": "46a9c4fc-5ea1-4e07-dd98-39046644d095"
      },
      "source": [
        "#añadimos elementos a una lista vacía\n",
        "nombres = []                   \n",
        "nombres.append('Carlos')\n",
        "nombres.append('Luisa')\n",
        "nombres.append('Alexander')\n",
        "print(nombres)"
      ],
      "execution_count": null,
      "outputs": [
        {
          "output_type": "stream",
          "name": "stdout",
          "text": [
            "['Carlos', 'Luisa', 'Alexander']\n"
          ]
        }
      ]
    },
    {
      "cell_type": "markdown",
      "metadata": {
        "id": "0-ZJfr0qPY9E"
      },
      "source": [
        "**Insertando elementos en una lista**"
      ]
    },
    {
      "cell_type": "markdown",
      "metadata": {
        "id": "L0JuumQLPm64"
      },
      "source": [
        "Puede agregar un nuevo elemento en cualquier posición de su lista usando el comando insert ()\n"
      ]
    },
    {
      "cell_type": "code",
      "metadata": {
        "colab": {
          "base_uri": "https://localhost:8080/"
        },
        "id": "FSLyMLjkPS9T",
        "outputId": "ae863759-bf20-406f-abc8-f13c66766e11"
      },
      "source": [
        "#Insertando elemento en la primera posición de la lista\n",
        "nombres.insert(0, 'Claudia')    \n",
        "print(nombres)"
      ],
      "execution_count": null,
      "outputs": [
        {
          "output_type": "stream",
          "name": "stdout",
          "text": [
            "['Claudia', 'Carlos', 'Luisa', 'Alexander']\n"
          ]
        }
      ]
    },
    {
      "cell_type": "code",
      "metadata": {
        "colab": {
          "base_uri": "https://localhost:8080/"
        },
        "id": "3aDNewXuPeQ0",
        "outputId": "ad74cbe2-4d38-4510-9863-16016cfa1829"
      },
      "source": [
        "#Insertando elemento en la tercera posición de la lista\n",
        "nombres.insert(2, 'Daniel')    \n",
        "print(nombres)"
      ],
      "execution_count": null,
      "outputs": [
        {
          "output_type": "stream",
          "name": "stdout",
          "text": [
            "['Claudia', 'Carlos', 'Daniel', 'Luisa', 'Alexander']\n"
          ]
        }
      ]
    },
    {
      "cell_type": "markdown",
      "metadata": {
        "id": "bWJEhal-PSa6"
      },
      "source": [
        "### Eliminando elementos de una lista"
      ]
    },
    {
      "cell_type": "markdown",
      "metadata": {
        "id": "VJTRUStmSKJl"
      },
      "source": [
        "**Eliminando un elemento por su posición exacta**"
      ]
    },
    {
      "cell_type": "markdown",
      "metadata": {
        "id": "FO5oGkoMbV7H"
      },
      "source": [
        "Si conoce la posición del elemento que desea eliminar de una lista, puede\n",
        "use la declaración *del.*"
      ]
    },
    {
      "cell_type": "code",
      "metadata": {
        "id": "GvBlo0cNSQfj"
      },
      "source": [
        "frutas = ['manzana', 'pera', 'uva', 'sandía']"
      ],
      "execution_count": null,
      "outputs": []
    },
    {
      "cell_type": "code",
      "metadata": {
        "colab": {
          "base_uri": "https://localhost:8080/"
        },
        "id": "T9bpGKKqSUQY",
        "outputId": "ea2f3dce-5cea-4839-e06e-3aee37e33dbc"
      },
      "source": [
        "del frutas[0]                  \n",
        "print(frutas)"
      ],
      "execution_count": null,
      "outputs": [
        {
          "output_type": "stream",
          "name": "stdout",
          "text": [
            "['pera', 'uva', 'sandía']\n"
          ]
        }
      ]
    },
    {
      "cell_type": "markdown",
      "metadata": {
        "id": "Lsza9JB1SW6A"
      },
      "source": [
        "**Eliminado un elemento mediando el método pop()**"
      ]
    },
    {
      "cell_type": "markdown",
      "metadata": {
        "id": "Oq4yDmglbsfh"
      },
      "source": [
        "El método pop () elimina el último elemento de una lista, pero le permite trabajar con ese elemento después de quitarlo"
      ]
    },
    {
      "cell_type": "code",
      "metadata": {
        "id": "c_3R2pV0ScDS"
      },
      "source": [
        "cursos = ['Matemáticas', 'Estadística', 'Programación']"
      ],
      "execution_count": null,
      "outputs": []
    },
    {
      "cell_type": "code",
      "metadata": {
        "id": "hX57faqNSeYw"
      },
      "source": [
        "popped_cursos = cursos.pop() "
      ],
      "execution_count": null,
      "outputs": []
    },
    {
      "cell_type": "code",
      "metadata": {
        "colab": {
          "base_uri": "https://localhost:8080/"
        },
        "id": "1n1VJ9_WZUpd",
        "outputId": "51143620-fc31-47ca-ece8-3b511ef49458"
      },
      "source": [
        "print(cursos)\n",
        "print(popped_cursos)"
      ],
      "execution_count": null,
      "outputs": [
        {
          "output_type": "stream",
          "name": "stdout",
          "text": [
            "['Matemáticas', 'Estadística']\n",
            "Programación\n"
          ]
        }
      ]
    },
    {
      "cell_type": "markdown",
      "metadata": {
        "id": "4adqFPigZmv9"
      },
      "source": [
        "**Usando el método pop() para cualquier posición en la lista**"
      ]
    },
    {
      "cell_type": "markdown",
      "metadata": {
        "id": "6iagFReOciaL"
      },
      "source": [
        "Puede usar pop () para eliminar un elemento de cualquier posición en una lista al incluir el índice del elemento que desea eliminar entre paréntesis"
      ]
    },
    {
      "cell_type": "code",
      "metadata": {
        "id": "EL15r_yeZ1cH"
      },
      "source": [
        "cosas = ['Botella', 'Lápiz', 'Celular']"
      ],
      "execution_count": null,
      "outputs": []
    },
    {
      "cell_type": "code",
      "metadata": {
        "id": "oDxu34CGcWA4"
      },
      "source": [
        "primera_cosa = cosas.pop(0)    "
      ],
      "execution_count": null,
      "outputs": []
    },
    {
      "cell_type": "code",
      "metadata": {
        "colab": {
          "base_uri": "https://localhost:8080/"
        },
        "id": "YvbZvzyTchHf",
        "outputId": "ea666c1c-0ebf-4106-d7e0-c53daff9fb0c"
      },
      "source": [
        "print(f\"La primera cosa que encontré en mi maleta es una {primera_cosa.lower()}.\")"
      ],
      "execution_count": null,
      "outputs": [
        {
          "output_type": "stream",
          "name": "stdout",
          "text": [
            "La primera cosa que encontré en mi maleta es una lápiz.\n"
          ]
        }
      ]
    },
    {
      "cell_type": "markdown",
      "metadata": {
        "id": "s-aktStAaPrB"
      },
      "source": [
        "**Eliminar un elemento por su valor**"
      ]
    },
    {
      "cell_type": "markdown",
      "metadata": {
        "id": "FehHgFbFdBE4"
      },
      "source": [
        "Si solo conoce el valor del artículo que desea eliminar, puede usar el método remove ()"
      ]
    },
    {
      "cell_type": "code",
      "metadata": {
        "id": "YDRI16PoaGbo"
      },
      "source": [
        "nombres = ['Sandra', 'Jordan', 'Daniel', 'Samanta']"
      ],
      "execution_count": null,
      "outputs": []
    },
    {
      "cell_type": "code",
      "metadata": {
        "id": "GYvxhMMCdFBY"
      },
      "source": [
        "nombres.remove('Sandra')      "
      ],
      "execution_count": null,
      "outputs": []
    },
    {
      "cell_type": "code",
      "metadata": {
        "colab": {
          "base_uri": "https://localhost:8080/"
        },
        "id": "SuaZLkgDdFeZ",
        "outputId": "ac9d6be1-4141-4716-d8d2-17a647aa309d"
      },
      "source": [
        "print(nombres)"
      ],
      "execution_count": null,
      "outputs": [
        {
          "output_type": "stream",
          "name": "stdout",
          "text": [
            "['Jordan', 'Daniel', 'Samanta']\n"
          ]
        }
      ]
    },
    {
      "cell_type": "markdown",
      "metadata": {
        "id": "70mdfxqnajeG"
      },
      "source": [
        "### Organizando una lista"
      ]
    },
    {
      "cell_type": "markdown",
      "metadata": {
        "id": "IO6xEZmHa0s1"
      },
      "source": [
        "**Ordenando una lista de forma permanente**"
      ]
    },
    {
      "cell_type": "markdown",
      "metadata": {
        "id": "fIFih-jRdS54"
      },
      "source": [
        "La lista se ordena en forma alfabética y no puede ser revertida a la lista orginal"
      ]
    },
    {
      "cell_type": "code",
      "metadata": {
        "colab": {
          "base_uri": "https://localhost:8080/"
        },
        "id": "84kjacdPSjsg",
        "outputId": "cef36e00-fe82-4d3e-8c39-59f51261a941"
      },
      "source": [
        "carros = ['bmw', 'audi', 'toyota', 'subaru']              \n",
        "print(carros)"
      ],
      "execution_count": null,
      "outputs": [
        {
          "output_type": "stream",
          "name": "stdout",
          "text": [
            "['bmw', 'audi', 'toyota', 'subaru']\n"
          ]
        }
      ]
    },
    {
      "cell_type": "code",
      "metadata": {
        "colab": {
          "base_uri": "https://localhost:8080/"
        },
        "id": "4sG4UIItdcEY",
        "outputId": "35ca90af-5bcb-44a1-df7b-3d5b55af726c"
      },
      "source": [
        "carros.sort()\n",
        "print(carros)"
      ],
      "execution_count": null,
      "outputs": [
        {
          "output_type": "stream",
          "name": "stdout",
          "text": [
            "['audi', 'bmw', 'subaru', 'toyota']\n"
          ]
        }
      ]
    },
    {
      "cell_type": "code",
      "metadata": {
        "colab": {
          "base_uri": "https://localhost:8080/"
        },
        "id": "OfPSj-OJdaiu",
        "outputId": "e2203064-9b1b-4097-9b46-3c35fce52cb5"
      },
      "source": [
        "#ordenando en orden alfabético inverso\n",
        "carros.sort(reverse=True)\n",
        "print(carros)"
      ],
      "execution_count": null,
      "outputs": [
        {
          "output_type": "stream",
          "name": "stdout",
          "text": [
            "['toyota', 'subaru', 'bmw', 'audi']\n"
          ]
        }
      ]
    },
    {
      "cell_type": "markdown",
      "metadata": {
        "id": "DJhZabyYa8Uo"
      },
      "source": [
        "**Ordenando una lista de forma temporal**"
      ]
    },
    {
      "cell_type": "markdown",
      "metadata": {
        "id": "dtCm7q5ZdxJm"
      },
      "source": [
        "Para mantener el orden original de una lista, pero presentarla ordenadamente puede utilizar la función sorted ()."
      ]
    },
    {
      "cell_type": "code",
      "metadata": {
        "id": "GOBpn15qbB_R"
      },
      "source": [
        "alumnos = ['Ana', 'Zenon', 'Daniel','Camila', 'Camilo']  "
      ],
      "execution_count": null,
      "outputs": []
    },
    {
      "cell_type": "code",
      "metadata": {
        "colab": {
          "base_uri": "https://localhost:8080/"
        },
        "id": "uAGBYcuCeFS2",
        "outputId": "5274656b-368e-4308-a57c-aeab4ecb6734"
      },
      "source": [
        "print(\"Aquí está la lista original:\")\n",
        "print(alumnos)"
      ],
      "execution_count": null,
      "outputs": [
        {
          "output_type": "stream",
          "name": "stdout",
          "text": [
            "Aquí está la lista original:\n",
            "['Ana', 'Zenon', 'Daniel', 'Camila', 'Camilo']\n"
          ]
        }
      ]
    },
    {
      "cell_type": "code",
      "metadata": {
        "colab": {
          "base_uri": "https://localhost:8080/"
        },
        "id": "cPio3QxOeF08",
        "outputId": "1bbcb9a8-1803-4f2d-8075-636949e83dfd"
      },
      "source": [
        "print(\"Aquí está la lista ordenada:\")\n",
        "print(sorted(alumnos))"
      ],
      "execution_count": null,
      "outputs": [
        {
          "output_type": "stream",
          "name": "stdout",
          "text": [
            "Aquí está la lista ordenada:\n",
            "['Ana', 'Camila', 'Camilo', 'Daniel', 'Zenon']\n"
          ]
        }
      ]
    },
    {
      "cell_type": "code",
      "metadata": {
        "colab": {
          "base_uri": "https://localhost:8080/"
        },
        "id": "kRSmGDfZeIss",
        "outputId": "d1377299-ff11-46aa-fa6f-2e1d290a4c09"
      },
      "source": [
        "print(\"Aquí está la lista original de nuevo:\")\n",
        "print(alumnos)"
      ],
      "execution_count": null,
      "outputs": [
        {
          "output_type": "stream",
          "name": "stdout",
          "text": [
            "Aquí está la lista original de nuevo:\n",
            "['Ana', 'Zenon', 'Daniel', 'Camila', 'Camilo']\n"
          ]
        }
      ]
    },
    {
      "cell_type": "code",
      "metadata": {
        "colab": {
          "base_uri": "https://localhost:8080/"
        },
        "id": "XH2INjEDeLfY",
        "outputId": "39e7c1cf-3812-4a7d-dc02-672295eeeaef"
      },
      "source": [
        "len(alumnos)      #Hallando el largo (length) de la lista"
      ],
      "execution_count": null,
      "outputs": [
        {
          "output_type": "execute_result",
          "data": {
            "text/plain": [
              "5"
            ]
          },
          "metadata": {},
          "execution_count": 138
        }
      ]
    },
    {
      "cell_type": "markdown",
      "metadata": {
        "id": "BtbVA3tJ744F"
      },
      "source": [
        "## Diccionarios"
      ]
    },
    {
      "cell_type": "markdown",
      "metadata": {
        "id": "wpS43vMKeXkx"
      },
      "source": [
        "Un diccionario en Python es una colección de pares llave-valor. Cada llave está conectada a un valor. El valor de una llave puede ser un número, una cadena, una lista o incluso otro diccionario. De hecho, puede utilizar cualquier objeto que pueda crear en Python como valor en un diccionario."
      ]
    },
    {
      "cell_type": "code",
      "metadata": {
        "id": "YPQ_s0ap7_AQ"
      },
      "source": [
        "#Un diccionario simple\n",
        "manzana = {'color': 'rojo', 'peso': 190}"
      ],
      "execution_count": null,
      "outputs": []
    },
    {
      "cell_type": "markdown",
      "metadata": {
        "id": "kZEjt6rifcQX"
      },
      "source": [
        "**Accediendo a valores en un dictionario**"
      ]
    },
    {
      "cell_type": "markdown",
      "metadata": {
        "id": "gp83MWRjgq7n"
      },
      "source": [
        "Para obtener el valor asociado con una llave, proporcione el nombre del diccionario y luego coloque la llave dentro de un par de corchetes."
      ]
    },
    {
      "cell_type": "code",
      "metadata": {
        "colab": {
          "base_uri": "https://localhost:8080/"
        },
        "id": "5VruAGChfUCM",
        "outputId": "9e76ce03-7e3b-4f48-baad-f89de2064f3f"
      },
      "source": [
        "print(manzana['color'])"
      ],
      "execution_count": null,
      "outputs": [
        {
          "output_type": "stream",
          "name": "stdout",
          "text": [
            "rojo\n"
          ]
        }
      ]
    },
    {
      "cell_type": "code",
      "metadata": {
        "colab": {
          "base_uri": "https://localhost:8080/"
        },
        "id": "OnnVRxVcfvIF",
        "outputId": "0ae8b507-0269-498c-fbd4-efb0eb9e209c"
      },
      "source": [
        "print(manzana['peso'])"
      ],
      "execution_count": null,
      "outputs": [
        {
          "output_type": "stream",
          "name": "stdout",
          "text": [
            "190\n"
          ]
        }
      ]
    },
    {
      "cell_type": "code",
      "metadata": {
        "colab": {
          "base_uri": "https://localhost:8080/"
        },
        "id": "zXdlvdTIfxS6",
        "outputId": "fb985c89-a505-4625-d883-49d648979015"
      },
      "source": [
        "peso_manzana = manzana['peso']\n",
        "\n",
        "print(f\"\\nLa manzana pesa alrededor de {peso_manzana} gramos.\")"
      ],
      "execution_count": null,
      "outputs": [
        {
          "output_type": "stream",
          "name": "stdout",
          "text": [
            "\n",
            "La manzana pesa alrededor de 190 gramos.\n"
          ]
        }
      ]
    },
    {
      "cell_type": "markdown",
      "metadata": {
        "id": "6xT471TLf0tq"
      },
      "source": [
        "**Añadiendo nuevos pares de llaves-valores**"
      ]
    },
    {
      "cell_type": "markdown",
      "metadata": {
        "id": "y4jEbkKxg7Oc"
      },
      "source": [
        "Los diccionarios son estructuras dinámicas y puede agregar nuevos pares llave-valor a un diccionario en cualquier momento."
      ]
    },
    {
      "cell_type": "code",
      "metadata": {
        "colab": {
          "base_uri": "https://localhost:8080/"
        },
        "id": "p3I4O-eXf8bj",
        "outputId": "f2b6e083-e9d4-4db7-cae5-c100d363b3aa"
      },
      "source": [
        "persona1 = {'edad': 24 , 'talla': 175, 'sexo': 'mujer'}\n",
        "print(persona1)"
      ],
      "execution_count": null,
      "outputs": [
        {
          "output_type": "stream",
          "name": "stdout",
          "text": [
            "{'edad': 24, 'talla': 175, 'sexo': 'mujer'}\n"
          ]
        }
      ]
    },
    {
      "cell_type": "code",
      "metadata": {
        "colab": {
          "base_uri": "https://localhost:8080/"
        },
        "id": "UQxbTRPggA9M",
        "outputId": "a43a357f-b67c-45c9-a1ba-0d25dbbb884c"
      },
      "source": [
        "persona1['carrera'] = 'Estadística'\n",
        "persona1['ingreso'] = 3500\n",
        "print(persona1)"
      ],
      "execution_count": null,
      "outputs": [
        {
          "output_type": "stream",
          "name": "stdout",
          "text": [
            "{'edad': 24, 'talla': 175, 'sexo': 'mujer', 'carrera': 'Estadística', 'ingreso': 3500}\n"
          ]
        }
      ]
    },
    {
      "cell_type": "markdown",
      "metadata": {
        "id": "90ZntdMhgERM"
      },
      "source": [
        "**Comenzando con un dictionario vacío**"
      ]
    },
    {
      "cell_type": "markdown",
      "metadata": {
        "id": "eH1sCEA9hJDj"
      },
      "source": [
        "Para comenzar a llenar un diccionario vacío, defina un diccionario con un conjunto vacío de llaves y luego agregue cada llave-valor en su propia línea."
      ]
    },
    {
      "cell_type": "code",
      "metadata": {
        "id": "AfRtQ2LNgJXT"
      },
      "source": [
        "persona2 = {}"
      ],
      "execution_count": null,
      "outputs": []
    },
    {
      "cell_type": "code",
      "metadata": {
        "colab": {
          "base_uri": "https://localhost:8080/"
        },
        "id": "LR1Soq8CgOGo",
        "outputId": "0529e509-8cab-464d-8817-7e68a7d72a15"
      },
      "source": [
        "persona2['carrera'] = 'Comunicaciones'\n",
        "persona2['ingreso'] = 3500\n",
        "print(persona2)"
      ],
      "execution_count": null,
      "outputs": [
        {
          "output_type": "stream",
          "name": "stdout",
          "text": [
            "{'carrera': 'Comunicaciones', 'ingreso': 3500}\n"
          ]
        }
      ]
    },
    {
      "cell_type": "markdown",
      "metadata": {
        "id": "0zK_2Vf0gUk5"
      },
      "source": [
        "**Modificando valores en un diccionario**"
      ]
    },
    {
      "cell_type": "markdown",
      "metadata": {
        "id": "wxGJdp1XhYd9"
      },
      "source": [
        "Para modificar un valor en un diccionario, ingrese el nombre del diccionario con la llave entre corchetes y luego el nuevo valor que desea asociar con esa llave."
      ]
    },
    {
      "cell_type": "code",
      "metadata": {
        "colab": {
          "base_uri": "https://localhost:8080/"
        },
        "id": "XqrEr9nRC_Ax",
        "outputId": "62e87e77-67eb-4b85-efde-b35ba4920778"
      },
      "source": [
        "persona1 = {'edad': 24 , 'talla': 175, 'sexo': 'mujer'}\n",
        "print(persona1)"
      ],
      "execution_count": null,
      "outputs": [
        {
          "output_type": "stream",
          "name": "stdout",
          "text": [
            "{'edad': 24, 'talla': 175, 'sexo': 'mujer'}\n"
          ]
        }
      ]
    },
    {
      "cell_type": "code",
      "metadata": {
        "colab": {
          "base_uri": "https://localhost:8080/"
        },
        "id": "tR7Q2tn0gZRW",
        "outputId": "4fcf0641-f812-4cf1-90b2-e20c69d11b5b"
      },
      "source": [
        "persona1['edad']=30\n",
        "print(persona1)"
      ],
      "execution_count": null,
      "outputs": [
        {
          "output_type": "stream",
          "name": "stdout",
          "text": [
            "{'edad': 30, 'talla': 175, 'sexo': 'mujer'}\n"
          ]
        }
      ]
    },
    {
      "cell_type": "markdown",
      "metadata": {
        "id": "lBC27Pa9gbct"
      },
      "source": [
        "**Removiendo un par llave-valor**"
      ]
    },
    {
      "cell_type": "markdown",
      "metadata": {
        "id": "kBtO1kY6hq3o"
      },
      "source": [
        "Cuando ya no necesite un dato almacenado en un diccionario, puede usar el comando *del* para eliminar por completo un par llave-valor."
      ]
    },
    {
      "cell_type": "code",
      "metadata": {
        "id": "wVBGC2pOEIMR"
      },
      "source": [
        "persona1 = {'edad': 24 , 'talla': 175, 'sexo': 'mujer'}"
      ],
      "execution_count": null,
      "outputs": []
    },
    {
      "cell_type": "code",
      "metadata": {
        "colab": {
          "base_uri": "https://localhost:8080/"
        },
        "id": "qseDafCkgh5f",
        "outputId": "c92a83ca-a48d-4296-dafd-cb5076fa163a"
      },
      "source": [
        "del persona1['talla']\n",
        "print(persona1)"
      ],
      "execution_count": null,
      "outputs": [
        {
          "output_type": "stream",
          "name": "stdout",
          "text": [
            "{'edad': 24, 'sexo': 'mujer'}\n"
          ]
        }
      ]
    }
  ]
}