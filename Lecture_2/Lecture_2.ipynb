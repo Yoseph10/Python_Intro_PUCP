{
  "nbformat": 4,
  "nbformat_minor": 0,
  "metadata": {
    "colab": {
      "name": "Taller_2.ipynb",
      "provenance": [],
      "collapsed_sections": []
    },
    "kernelspec": {
      "name": "python3",
      "display_name": "Python 3"
    },
    "language_info": {
      "name": "python"
    }
  },
  "cells": [
    {
      "cell_type": "markdown",
      "metadata": {
        "id": "Cdp-pC9zMLnJ"
      },
      "source": [
        "# CLASE 2"
      ]
    },
    {
      "cell_type": "markdown",
      "metadata": {
        "id": "e1JEbW_1HxvM"
      },
      "source": [
        "##Trabajando con NumPy Arrays"
      ]
    },
    {
      "cell_type": "markdown",
      "metadata": {
        "id": "VAkui5rvSE-a"
      },
      "source": [
        "NumPy, o Python numérico, es una biblioteca basada en Python para cálculos matemáticos y procesamiento de arrays. Python no admite estructuras de datos en más de una dimensión, con contenedores como listas y diccionarios que son unidimensionales. Por ello, se hace uso del paquete NumPy."
      ]
    },
    {
      "cell_type": "markdown",
      "metadata": {
        "id": "8ONY_y6GUGzZ"
      },
      "source": [
        "\n",
        "\n",
        "> Un array puede ser unidimensional (un vector), bidimensional (una matriz) o multidimensional\n",
        "\n"
      ]
    },
    {
      "cell_type": "markdown",
      "metadata": {
        "id": "spqaTXk0RfkJ"
      },
      "source": [
        "El paquete NumPy debe importarse antes de que se puedan utilizar sus funciones. La notación abreviada o alias de NumPy es np."
      ]
    },
    {
      "cell_type": "code",
      "metadata": {
        "id": "gYTWMdUmMPTG"
      },
      "source": [
        "#Importando el paquete NumPy\n",
        "\n",
        "import numpy as np"
      ],
      "execution_count": null,
      "outputs": []
    },
    {
      "cell_type": "markdown",
      "metadata": {
        "id": "b8XAO9n7nIX0"
      },
      "source": [
        "### Creando un array"
      ]
    },
    {
      "cell_type": "markdown",
      "metadata": {
        "id": "MVV1ZZi5V_b6"
      },
      "source": [
        "La unidad básica en NumPy es un array."
      ]
    },
    {
      "cell_type": "markdown",
      "metadata": {
        "id": "xcEncOOtWYA8"
      },
      "source": [
        "**Creando un array a partir de una lista**"
      ]
    },
    {
      "cell_type": "markdown",
      "metadata": {
        "id": "blX891B-Wowg"
      },
      "source": [
        "La función *np.array* se utiliza para crear un array unidimensional o multidimensional a partir de una lista."
      ]
    },
    {
      "cell_type": "code",
      "metadata": {
        "id": "CTTHuQSmaXW4"
      },
      "source": [
        "#help(np.array)"
      ],
      "execution_count": null,
      "outputs": []
    },
    {
      "cell_type": "code",
      "metadata": {
        "id": "sDoxLQS2IuQr"
      },
      "source": [
        "np.array([1,2,3])"
      ],
      "execution_count": null,
      "outputs": []
    },
    {
      "cell_type": "code",
      "metadata": {
        "id": "i6EK65uNXKT0"
      },
      "source": [
        "a = np.array([1,2,3])\n",
        "print(a)"
      ],
      "execution_count": null,
      "outputs": []
    },
    {
      "cell_type": "code",
      "metadata": {
        "id": "w_LrIqgDXTAB"
      },
      "source": [
        "type(a)  # N-dimensional array (ndarray)"
      ],
      "execution_count": null,
      "outputs": []
    },
    {
      "cell_type": "code",
      "metadata": {
        "id": "9ijN3O5FXEOL"
      },
      "source": [
        "a.shape"
      ],
      "execution_count": null,
      "outputs": []
    },
    {
      "cell_type": "code",
      "metadata": {
        "id": "YDOa2DdfnpT9"
      },
      "source": [
        "b = np.array([ [1,2,3],[4,5,6] ])\n",
        "print(b)"
      ],
      "execution_count": null,
      "outputs": []
    },
    {
      "cell_type": "code",
      "metadata": {
        "id": "S7qqCj83ZWU4"
      },
      "source": [
        "b.shape"
      ],
      "execution_count": null,
      "outputs": []
    },
    {
      "cell_type": "markdown",
      "metadata": {
        "id": "PBO3dBqdZg_o"
      },
      "source": [
        "**Creando un array a partir de una rango**"
      ]
    },
    {
      "cell_type": "markdown",
      "metadata": {
        "id": "AspdG5-jatZY"
      },
      "source": [
        "La función *np.arange* se usa para crear un rango de integers"
      ]
    },
    {
      "cell_type": "code",
      "metadata": {
        "id": "fHGB63cxa4eP"
      },
      "source": [
        "#help(np.arange)"
      ],
      "execution_count": null,
      "outputs": []
    },
    {
      "cell_type": "code",
      "metadata": {
        "id": "Dyj7KDxEnxJM"
      },
      "source": [
        "np.arange(0,11,1)"
      ],
      "execution_count": null,
      "outputs": []
    },
    {
      "cell_type": "code",
      "metadata": {
        "id": "6hxBtBWJvMAk"
      },
      "source": [
        "np.arange(0,11)"
      ],
      "execution_count": null,
      "outputs": []
    },
    {
      "cell_type": "code",
      "metadata": {
        "id": "RT-4E2dSqgOw"
      },
      "source": [
        "#Genera 11 integers igualmente espaciados comenzando desde 0\n",
        "np.arange(11)"
      ],
      "execution_count": null,
      "outputs": []
    },
    {
      "cell_type": "markdown",
      "metadata": {
        "id": "-MOYfUbubRO3"
      },
      "source": [
        "**Creando un array de números igualmente espaciados**"
      ]
    },
    {
      "cell_type": "markdown",
      "metadata": {
        "id": "UXvke9vtbmxh"
      },
      "source": [
        "La función *np.linspace* crea un número dado de valores igualmente espaciados\n",
        "entre dos límites."
      ]
    },
    {
      "cell_type": "code",
      "metadata": {
        "id": "VIOudS-Xqsuk"
      },
      "source": [
        "#Esto genera cinco valores igualmente espaciados entre 1 y 6\n",
        "np.linspace(1,6,5)  "
      ],
      "execution_count": null,
      "outputs": []
    },
    {
      "cell_type": "markdown",
      "metadata": {
        "id": "jD64jERjcohq"
      },
      "source": [
        "**Creando un array de ceros**"
      ]
    },
    {
      "cell_type": "markdown",
      "metadata": {
        "id": "MyU_g6t3dGH5"
      },
      "source": [
        "La función *np.zeros* crea una array con un número determinado de filas y\n",
        "columnas, con un solo valor en todo el array: \"0\"."
      ]
    },
    {
      "cell_type": "code",
      "metadata": {
        "id": "fWLrnZJ8ERLp"
      },
      "source": [
        "#Crea un array de 3*4 con todos sus valores igual a 0\n",
        "np.zeros((3,4))"
      ],
      "execution_count": null,
      "outputs": []
    },
    {
      "cell_type": "markdown",
      "metadata": {
        "id": "_wVn1octd7_k"
      },
      "source": [
        "**Creando un array de unos**"
      ]
    },
    {
      "cell_type": "markdown",
      "metadata": {
        "id": "XbcN_D7PeAMO"
      },
      "source": [
        "La función *np.ones* es similar a la función* np.zeros*, siendo la diferencia\n",
        "que el valor repetido en toda la matriz es \"1\"."
      ]
    },
    {
      "cell_type": "code",
      "metadata": {
        "id": "_TcQO_eJEjkI"
      },
      "source": [
        "#Crea un array de 2*4 con todos sus valores igual a 1\n",
        "np.ones((2,4))"
      ],
      "execution_count": null,
      "outputs": []
    },
    {
      "cell_type": "markdown",
      "metadata": {
        "id": "_QH29im5eOvg"
      },
      "source": [
        "**Creando un array con un valor dado repetido a lo largo**\n",
        "\n"
      ]
    },
    {
      "cell_type": "markdown",
      "metadata": {
        "id": "iaDdIDnte3R7"
      },
      "source": [
        "La función *np.full* crea un array utilizando el valor especificado por el usuario."
      ]
    },
    {
      "cell_type": "code",
      "metadata": {
        "id": "KFKl3vmtEzoS"
      },
      "source": [
        "#Crea un array de 2*4 con todos sus valores igual a 2\n",
        "np.full((2,4),2)"
      ],
      "execution_count": null,
      "outputs": []
    },
    {
      "cell_type": "markdown",
      "metadata": {
        "id": "d5tM2U9Keo2Y"
      },
      "source": [
        "**Creando un array a partir de la repetición de una lista**"
      ]
    },
    {
      "cell_type": "markdown",
      "metadata": {
        "id": "wr7VqdgUfATp"
      },
      "source": [
        "La función *np.repeat* crea un array a partir de una lista que se repite un determinado número de veces."
      ]
    },
    {
      "cell_type": "code",
      "metadata": {
        "id": "IzXXqKpoFGj3"
      },
      "source": [
        "#Se repite cada valor de la lista 4 veces\n",
        "np.repeat([1,2,3],4)"
      ],
      "execution_count": null,
      "outputs": []
    },
    {
      "cell_type": "markdown",
      "metadata": {
        "id": "ZA8wMMitga7I"
      },
      "source": [
        "La función *np.tile* crear un array a partir de la repetición exacta de una lista un determinado número de veces."
      ]
    },
    {
      "cell_type": "code",
      "metadata": {
        "id": "MqWR2WRVHM8K"
      },
      "source": [
        "#Repitiendo la lista exacta 3 veces\n",
        "\n",
        "A = np.array([1,2,3]) \n",
        "B = np.tile(A,3)\n",
        "\n",
        "print(B)"
      ],
      "execution_count": null,
      "outputs": []
    },
    {
      "cell_type": "markdown",
      "metadata": {
        "id": "H2-3B6JihU3_"
      },
      "source": [
        "**Creando un array de integers aleatorios**"
      ]
    },
    {
      "cell_type": "code",
      "metadata": {
        "id": "e6lQh5oTHAxZ"
      },
      "source": [
        "#Se crea un array con 5 números aleatorios entre 1 y 100\n",
        "np.random.randint(1,100,5)  "
      ],
      "execution_count": null,
      "outputs": []
    },
    {
      "cell_type": "markdown",
      "metadata": {
        "id": "VJBsXShWXqrD"
      },
      "source": [
        "Un punto a tener en cuenta es que los arrays son estructuras de datos homogéneas, a diferencia de los contenedores (como listas y diccionarios). Es decir, una array debe contener elementos del mismo tipo de dato. Por ejemplo, no podemos tener una array que contenga strings, integers y floats al mismo tiempo. "
      ]
    },
    {
      "cell_type": "markdown",
      "metadata": {
        "id": "YKX34-IMYyJy"
      },
      "source": [
        "Si bien la definición de un NumPy array con elementos de diferentes tipos de datos no genera un error al escribir el código, esto debe evitarse."
      ]
    },
    {
      "cell_type": "markdown",
      "metadata": {
        "id": "ZG6ZgReeGgCv"
      },
      "source": [
        "### Reshaping an array"
      ]
    },
    {
      "cell_type": "markdown",
      "metadata": {
        "id": "KJbAFP71jmkT"
      },
      "source": [
        "Reshaping un array es el proceso de cambiar la dimensionalidad de una array. El método NumPy \"reshape\" es importante y se usa comúnmente para convertir un 1-D array en uno multidimensional."
      ]
    },
    {
      "cell_type": "code",
      "metadata": {
        "id": "P44Ic2mmINEQ"
      },
      "source": [
        "x = np.arange(0,10)\n",
        "print(x)"
      ],
      "execution_count": null,
      "outputs": []
    },
    {
      "cell_type": "code",
      "metadata": {
        "id": "nHv4GqtIkkW2"
      },
      "source": [
        "type(x)"
      ],
      "execution_count": null,
      "outputs": []
    },
    {
      "cell_type": "code",
      "metadata": {
        "id": "C80Wehstkief"
      },
      "source": [
        "x.shape"
      ],
      "execution_count": null,
      "outputs": []
    },
    {
      "cell_type": "markdown",
      "metadata": {
        "id": "zc8Fg7KbmZwm"
      },
      "source": [
        "**Comando reshape**"
      ]
    },
    {
      "cell_type": "markdown",
      "metadata": {
        "id": "R6A0Bm9SktD_"
      },
      "source": [
        "Podemos \"remodelar\" el 1-D array \"x\" en un 2-D array con 5 filas y 2 columnas."
      ]
    },
    {
      "cell_type": "code",
      "metadata": {
        "id": "AKlEkPa1pGlv"
      },
      "source": [
        "x.reshape(5,2)"
      ],
      "execution_count": null,
      "outputs": []
    },
    {
      "cell_type": "code",
      "metadata": {
        "id": "tEAvm0XcpKPX"
      },
      "source": [
        "x    #no alterna el array original. Debemos ponerlo en un nuevo array"
      ],
      "execution_count": null,
      "outputs": []
    },
    {
      "cell_type": "code",
      "metadata": {
        "id": "_pCNq_StJZ3k"
      },
      "source": [
        "y = x.reshape(5,2)\n",
        "y"
      ],
      "execution_count": null,
      "outputs": []
    },
    {
      "cell_type": "code",
      "metadata": {
        "id": "DjHCBNz0Jwmd"
      },
      "source": [
        "y.shape"
      ],
      "execution_count": null,
      "outputs": []
    },
    {
      "cell_type": "code",
      "metadata": {
        "id": "Rj4tqCirpVQP"
      },
      "source": [
        "type(y)"
      ],
      "execution_count": null,
      "outputs": []
    },
    {
      "cell_type": "markdown",
      "metadata": {
        "id": "Gqvq0gcAlYLt"
      },
      "source": [
        "Ahora, apliqueos el método \"reshape\" para crear dos subarreglos - cada uno con 3 filas y 2 columnas."
      ]
    },
    {
      "cell_type": "code",
      "metadata": {
        "id": "8CWAPC5VJ5LW"
      },
      "source": [
        "X1 = np.arange(0,12)\n",
        "print(X1)"
      ],
      "execution_count": null,
      "outputs": []
    },
    {
      "cell_type": "code",
      "metadata": {
        "id": "P7pjtgnIlmbh"
      },
      "source": [
        "X1.reshape(2,3,2)    #(subarreglos,filas,columnas)"
      ],
      "execution_count": null,
      "outputs": []
    },
    {
      "cell_type": "code",
      "metadata": {
        "id": "RCy0Q30QLhOc"
      },
      "source": [
        "np.arange(0,12).reshape(2,3,2)"
      ],
      "execution_count": null,
      "outputs": []
    },
    {
      "cell_type": "markdown",
      "metadata": {
        "id": "4W1Bn-G3mrB0"
      },
      "source": [
        "El producto de las dimensiones del array \"reformado\" debe ser igual al número de elementos del array original."
      ]
    },
    {
      "cell_type": "markdown",
      "metadata": {
        "id": "QmwggUPfmhW9"
      },
      "source": [
        "**Comando shape**"
      ]
    },
    {
      "cell_type": "markdown",
      "metadata": {
        "id": "NxHUwTCQn0mO"
      },
      "source": [
        "Podemos usar el comando *shape* para cambiar las dimensiones de un array"
      ]
    },
    {
      "cell_type": "code",
      "metadata": {
        "id": "wJ1NYd2WMPF8"
      },
      "source": [
        "X1 = np.arange(0,12)\n",
        "X1"
      ],
      "execution_count": null,
      "outputs": []
    },
    {
      "cell_type": "code",
      "metadata": {
        "id": "hGWrnW69n3Vt"
      },
      "source": [
        "X1.shape=(6,2)\n",
        "X1"
      ],
      "execution_count": null,
      "outputs": []
    },
    {
      "cell_type": "markdown",
      "metadata": {
        "id": "m1yAP8vznzYq"
      },
      "source": [
        "Tenga en cuenta que el comando *shape* realiza cambios al array original. En cambio, el comando *reshape* no altera el array"
      ]
    },
    {
      "cell_type": "markdown",
      "metadata": {
        "id": "wy24lYYrOJ3N"
      },
      "source": [
        "### Combinando arrays"
      ]
    },
    {
      "cell_type": "markdown",
      "metadata": {
        "id": "RInIxZNHpc5-"
      },
      "source": [
        "**Appending**"
      ]
    },
    {
      "cell_type": "markdown",
      "metadata": {
        "id": "2CCdHJjpppdY"
      },
      "source": [
        "Implica unir una array al final de otro array."
      ]
    },
    {
      "cell_type": "markdown",
      "metadata": {
        "id": "8itbd6Oyp7iv"
      },
      "source": [
        "La función *np.append* se usa para unir dos arrays."
      ]
    },
    {
      "cell_type": "code",
      "metadata": {
        "id": "5auAAj6KOOBR"
      },
      "source": [
        "x1=np.array([[1,2],[3,4]])\n",
        "x1"
      ],
      "execution_count": null,
      "outputs": []
    },
    {
      "cell_type": "code",
      "metadata": {
        "id": "sOmQl_GcqEW5"
      },
      "source": [
        "x2=np.array([[6,7,8],[9,10,11]])\n",
        "x2"
      ],
      "execution_count": null,
      "outputs": []
    },
    {
      "cell_type": "code",
      "metadata": {
        "id": "YiOwdKhvPHpR"
      },
      "source": [
        "np.append(x1,x2)"
      ],
      "execution_count": null,
      "outputs": []
    },
    {
      "cell_type": "markdown",
      "metadata": {
        "id": "IMwDyeNDqQl4"
      },
      "source": [
        "**Concatenación**"
      ]
    },
    {
      "cell_type": "markdown",
      "metadata": {
        "id": "idL02X6OrMkX"
      },
      "source": [
        "Implica unir array a lo largo de un eje (ya sea vertical u horizontal). La función *np.concatenate* concatena arrays."
      ]
    },
    {
      "cell_type": "code",
      "metadata": {
        "id": "IlYaerQQcipA"
      },
      "source": [
        "x=np.array([[1,2],[3,4]])\n",
        "x"
      ],
      "execution_count": null,
      "outputs": []
    },
    {
      "cell_type": "code",
      "metadata": {
        "id": "cRuE-E5crwkX"
      },
      "source": [
        "y=np.array([[6,7],[9,10]])\n",
        "y"
      ],
      "execution_count": null,
      "outputs": []
    },
    {
      "cell_type": "code",
      "metadata": {
        "id": "Iluh7iynrnCP"
      },
      "source": [
        "np.concatenate((x,y))"
      ],
      "execution_count": null,
      "outputs": []
    },
    {
      "cell_type": "markdown",
      "metadata": {
        "id": "3hX6wUxir73Y"
      },
      "source": [
        "Por defecto, la función concatenar une los array verticalmente (a lo largo del eje \"0\"). Si desea que los array se unan uno al lado de la otro, el parámetro \"eje\" debe agregarse con el valor \"1\"."
      ]
    },
    {
      "cell_type": "code",
      "metadata": {
        "id": "oc6D_-CRshU3"
      },
      "source": [
        "np.concatenate((x,y),axis=1)"
      ],
      "execution_count": null,
      "outputs": []
    },
    {
      "cell_type": "markdown",
      "metadata": {
        "id": "JK05OB9pPEYV"
      },
      "source": [
        "### Operaciones con arrays"
      ]
    },
    {
      "cell_type": "markdown",
      "metadata": {
        "id": "aPeNxfEotG4G"
      },
      "source": [
        "**Operaciones aritméticas**"
      ]
    },
    {
      "cell_type": "code",
      "metadata": {
        "id": "hgWQolndfeRu"
      },
      "source": [
        "a = np.array([1, 2, 3, 4]) "
      ],
      "execution_count": null,
      "outputs": []
    },
    {
      "cell_type": "code",
      "metadata": {
        "id": "HJUC1mwwtOeu"
      },
      "source": [
        "a+10       #suma"
      ],
      "execution_count": null,
      "outputs": []
    },
    {
      "cell_type": "code",
      "metadata": {
        "id": "Pi_fPqejgKpF"
      },
      "source": [
        "a*2        #multiplicación"
      ],
      "execution_count": null,
      "outputs": []
    },
    {
      "cell_type": "code",
      "metadata": {
        "id": "5ww4-veFgOg8"
      },
      "source": [
        "a**2        #potencia"
      ],
      "execution_count": null,
      "outputs": []
    },
    {
      "cell_type": "code",
      "metadata": {
        "id": "DtOHuaI_jchI"
      },
      "source": [
        "a = np.array([1, 2, 3, 4])\n",
        "b = np.array([4, 2, 2, 4])"
      ],
      "execution_count": null,
      "outputs": []
    },
    {
      "cell_type": "code",
      "metadata": {
        "id": "yoWzEIrWtTKn"
      },
      "source": [
        "a+b         #suma (tienen que ser de la misma dimensión)"
      ],
      "execution_count": null,
      "outputs": []
    },
    {
      "cell_type": "code",
      "metadata": {
        "id": "YghSo44Bjzzw"
      },
      "source": [
        "a*b         #multiplicación"
      ],
      "execution_count": null,
      "outputs": []
    },
    {
      "cell_type": "code",
      "metadata": {
        "id": "YdwbmB3Oj6R5"
      },
      "source": [
        "(a+b)**2    #potencia"
      ],
      "execution_count": null,
      "outputs": []
    },
    {
      "cell_type": "markdown",
      "metadata": {
        "id": "BNQGfV3Eto5n"
      },
      "source": [
        "**Operadores de comparación**"
      ]
    },
    {
      "cell_type": "code",
      "metadata": {
        "id": "ABHPT4cekEs8"
      },
      "source": [
        "a = np.array([1, 2, 3, 4])\n",
        "b = np.array([4, 2, 2, 4])"
      ],
      "execution_count": null,
      "outputs": []
    },
    {
      "cell_type": "code",
      "metadata": {
        "id": "qFc2IfMFt2FE"
      },
      "source": [
        "a==b                 #igualdad (elemento por elemento)"
      ],
      "execution_count": null,
      "outputs": []
    },
    {
      "cell_type": "code",
      "metadata": {
        "id": "hR9pD7BhkwHt"
      },
      "source": [
        "np.array_equal(a,b)  #igualdad (total)"
      ],
      "execution_count": null,
      "outputs": []
    },
    {
      "cell_type": "code",
      "metadata": {
        "id": "rwtt5pUrk0zp"
      },
      "source": [
        "c = np.array([1, 2, 3, 4])\n",
        "d = np.array([1, 2, 3, 4])"
      ],
      "execution_count": null,
      "outputs": []
    },
    {
      "cell_type": "code",
      "metadata": {
        "id": "Y9YoH8_1uJzv"
      },
      "source": [
        "np.array_equal(c,d)"
      ],
      "execution_count": null,
      "outputs": []
    },
    {
      "cell_type": "markdown",
      "metadata": {
        "id": "21R40GzhO3zt"
      },
      "source": [
        "### Matrices"
      ]
    },
    {
      "cell_type": "markdown",
      "metadata": {
        "id": "t0GcDXUHuy72"
      },
      "source": [
        "Una matriz es una estructura de datos bidimensional (filas y columnas), mientras que una array puede constar de cualquier número\n",
        "de dimensiones."
      ]
    },
    {
      "cell_type": "code",
      "metadata": {
        "id": "xkv_GjjWlmfc"
      },
      "source": [
        "x=np.matrix([[10,3],[43,3],[4,7]])\n",
        "x"
      ],
      "execution_count": null,
      "outputs": []
    },
    {
      "cell_type": "code",
      "metadata": {
        "id": "nSMA5uQlnnTV"
      },
      "source": [
        "type(x)"
      ],
      "execution_count": null,
      "outputs": []
    },
    {
      "cell_type": "code",
      "metadata": {
        "id": "bKg7qKllmY2S"
      },
      "source": [
        "#También se puede utilizar punto y coma para separar las filas\n",
        "y=np.matrix('10,3; 43,3 ;4,7')\n",
        "y"
      ],
      "execution_count": null,
      "outputs": []
    },
    {
      "cell_type": "markdown",
      "metadata": {
        "id": "Nzp3ysfZvlQn"
      },
      "source": [
        "Dado que las matrices son solo un caso específico de los array y podrían quedar obsoletas en futuras versiones de NumPy, generalmente es preferible usar NumPy arrays."
      ]
    },
    {
      "cell_type": "code",
      "metadata": {
        "id": "XyCP8TQZmO9U"
      },
      "source": [
        "z=np.array([[10,3],[43,3],[4,7]])\n",
        "z"
      ],
      "execution_count": null,
      "outputs": []
    },
    {
      "cell_type": "code",
      "metadata": {
        "id": "FG0UiQ6JmiCL"
      },
      "source": [
        "type(z)"
      ],
      "execution_count": null,
      "outputs": []
    },
    {
      "cell_type": "code",
      "metadata": {
        "id": "8WQi_VdWvzIN"
      },
      "source": [
        "z.shape"
      ],
      "execution_count": null,
      "outputs": []
    },
    {
      "cell_type": "markdown",
      "metadata": {
        "id": "ku1tPjKIv6k_"
      },
      "source": [
        "**Operaciones básicas con matrices**"
      ]
    },
    {
      "cell_type": "code",
      "metadata": {
        "id": "UqK25mMypIqd"
      },
      "source": [
        "x1 = np.array([10,1,4,7])\n",
        "\n",
        "y1 = x1.reshape(2,2)\n",
        "y1"
      ],
      "execution_count": null,
      "outputs": []
    },
    {
      "cell_type": "code",
      "metadata": {
        "id": "aZbugUL30jT6"
      },
      "source": [
        "x2 = np.array([30,78,4,8])\n",
        "\n",
        "y2 = x2.reshape(2,2)\n",
        "y2"
      ],
      "execution_count": null,
      "outputs": []
    },
    {
      "cell_type": "code",
      "metadata": {
        "id": "5VFUJ98V0uNb"
      },
      "source": [
        "#suma de matrices\n",
        "y1 + y2"
      ],
      "execution_count": null,
      "outputs": []
    },
    {
      "cell_type": "code",
      "metadata": {
        "id": "3cNQe69Q03kC"
      },
      "source": [
        "#resta de matrices\n",
        "y1 - y2"
      ],
      "execution_count": null,
      "outputs": []
    },
    {
      "cell_type": "code",
      "metadata": {
        "id": "Wj6ZrvwLwXrG"
      },
      "source": [
        "#multiplicación de matrices\n",
        "#np.dot(y1,y2)"
      ],
      "execution_count": null,
      "outputs": []
    },
    {
      "cell_type": "code",
      "metadata": {
        "id": "zOlfvUuqw52X"
      },
      "source": [
        "#determinante de una matriz\n",
        "#np.linalg.det(y1)"
      ],
      "execution_count": null,
      "outputs": []
    },
    {
      "cell_type": "code",
      "metadata": {
        "id": "UaEP6fSrxJsI"
      },
      "source": [
        "#inversa de una matriz\n",
        "#np.linalg.inv(y1)"
      ],
      "execution_count": null,
      "outputs": []
    },
    {
      "cell_type": "markdown",
      "metadata": {
        "id": "fPqab4EkPNus"
      },
      "source": [
        "## Preparando tus datos con Pandas (I)"
      ]
    },
    {
      "cell_type": "markdown",
      "metadata": {
        "id": "B_J4nDM_xsYj"
      },
      "source": [
        "Pandas, la biblioteca de Python para la manipulación de datos, tiene la ventaja de ser una herramienta poderosa con muchas capacidades para manipular datos."
      ]
    },
    {
      "cell_type": "markdown",
      "metadata": {
        "id": "3sxKWb1Zk6WE"
      },
      "source": [
        "Pandas tiene muchas funciones, enumeradas a continuación, que la convierten en una herramienta popular para la gestión de datos y análisis.\n",
        "\n",
        "\n",
        "* Pandas ofrece funciones para etiquetar o indexar datos, que\n",
        "acelera la recuperación de datos.\n",
        "* Ofrece opciones para leer datos\n",
        "de diferentes formatos de archivo como JSON (JavaScript Object Notation),\n",
        "CSV (valores separados por comas), Excel, entre otros.\n",
        "* Permite combinar distintas fuentes de datos.\n",
        "* Pandas proporciona muchas herramientas de visualización integradas\n",
        "utilizando Matplotlib como biblioteca base.\n",
        "* Soporte para otras bibliotecas: Pandas se integra sin problemas con\n",
        "otras bibliotecas como Numpy, Matplotlib, Scipy y Scikit-learn.\n",
        "\n",
        "\n"
      ]
    },
    {
      "cell_type": "code",
      "metadata": {
        "id": "bo162TjCPmPi"
      },
      "source": [
        "import pandas as pd"
      ],
      "execution_count": null,
      "outputs": []
    },
    {
      "cell_type": "markdown",
      "metadata": {
        "id": "1dLF60es7K8B"
      },
      "source": [
        "### Creating a Series object"
      ]
    },
    {
      "cell_type": "markdown",
      "metadata": {
        "id": "DpphiXLEyil7"
      },
      "source": [
        "Una serie es como una columna (solo tiene una dimensión). Cada valor guardado en una serie tiene una etiqueta o un índice asociado."
      ]
    },
    {
      "cell_type": "code",
      "metadata": {
        "id": "rAJGmrd_1pEp"
      },
      "source": [
        "pd.Series?"
      ],
      "execution_count": null,
      "outputs": []
    },
    {
      "cell_type": "markdown",
      "metadata": {
        "id": "nzX284YVqyMq"
      },
      "source": [
        "\n",
        "> Tenga en cuenta que la letra \"S\" en \"Series\" está en mayúscula. Si es así, pd.Series no funcionará.\n",
        "\n"
      ]
    },
    {
      "cell_type": "markdown",
      "metadata": {
        "id": "9VOnicWznc2j"
      },
      "source": [
        "**Usando un valor escalar**"
      ]
    },
    {
      "cell_type": "code",
      "metadata": {
        "id": "ljgKhQU1886K"
      },
      "source": [
        "#Creando una serie con solo un valor. Aquí 0 es el índice y 5 es el valor asociado.\n",
        "pd.Series(5)"
      ],
      "execution_count": null,
      "outputs": []
    },
    {
      "cell_type": "markdown",
      "metadata": {
        "id": "-DVyrJEknpgR"
      },
      "source": [
        "**Usando una lista**"
      ]
    },
    {
      "cell_type": "code",
      "metadata": {
        "id": "6nfPSx3u91oy"
      },
      "source": [
        "notas = [10,20,14]                              #integers"
      ],
      "execution_count": null,
      "outputs": []
    },
    {
      "cell_type": "code",
      "metadata": {
        "id": "O6OoAopmnuc8"
      },
      "source": [
        "pd.Series(notas)"
      ],
      "execution_count": null,
      "outputs": []
    },
    {
      "cell_type": "code",
      "metadata": {
        "id": "2eu3v11O7Rfe"
      },
      "source": [
        "cursos = ['Historia', 'Matemáticas', 'Arte']   #strings"
      ],
      "execution_count": null,
      "outputs": []
    },
    {
      "cell_type": "code",
      "metadata": {
        "id": "UvNtzDGtn6HS"
      },
      "source": [
        "pd.Series(cursos)"
      ],
      "execution_count": null,
      "outputs": []
    },
    {
      "cell_type": "code",
      "metadata": {
        "id": "r4HNlbsXn89q"
      },
      "source": [
        "#Creando una serie con un solo valor (2) en una lista y replicarla 5 veces. 0,1,2,3,4 son los índices autogenerados.\n",
        "pd.Series([2]*5)"
      ],
      "execution_count": null,
      "outputs": []
    },
    {
      "cell_type": "markdown",
      "metadata": {
        "id": "HRtpS_ZEoYhq"
      },
      "source": [
        "**Utilizando un diccionario**"
      ]
    },
    {
      "cell_type": "code",
      "metadata": {
        "id": "sJmoVNX57oe8"
      },
      "source": [
        "pd.Series({1:'India',2:'Japan',3:'Singapore'})"
      ],
      "execution_count": null,
      "outputs": []
    },
    {
      "cell_type": "code",
      "metadata": {
        "id": "md6Cbbwu_g9e"
      },
      "source": [
        "deportes = {0: 'Tiro al arco',\n",
        "            1: 'Fútbol',\n",
        "            2: 'Tenis',\n",
        "            3: 'Taekwondo'}"
      ],
      "execution_count": null,
      "outputs": []
    },
    {
      "cell_type": "code",
      "metadata": {
        "id": "JUNnh4D_on_v"
      },
      "source": [
        "x = pd.Series(deportes)\n",
        "x"
      ],
      "execution_count": null,
      "outputs": []
    },
    {
      "cell_type": "code",
      "metadata": {
        "id": "YmkVRJjAADPx"
      },
      "source": [
        "#Consultando los índices\n",
        "x.index"
      ],
      "execution_count": null,
      "outputs": []
    },
    {
      "cell_type": "code",
      "metadata": {
        "id": "HUZw_sYpAGVk"
      },
      "source": [
        "#Consultando los valores\n",
        "x.values"
      ],
      "execution_count": null,
      "outputs": []
    },
    {
      "cell_type": "markdown",
      "metadata": {
        "id": "1n8RLwdtoya7"
      },
      "source": [
        "**Utilizando un rango**"
      ]
    },
    {
      "cell_type": "markdown",
      "metadata": {
        "id": "N2513m6cp4TR"
      },
      "source": [
        "Asegurarse que la biblioteca Numpy también esté importada."
      ]
    },
    {
      "cell_type": "code",
      "metadata": {
        "id": "hvMdabOBpuUz"
      },
      "source": [
        "#Utilizando la función de NumPy arrays para crear una serie de un rango de 4 números (1-4)\n",
        "pd.Series(np.arange(1,5))"
      ],
      "execution_count": null,
      "outputs": []
    },
    {
      "cell_type": "code",
      "metadata": {
        "id": "lYIDNt0sAI2r"
      },
      "source": [
        "pd.Series(np.arange(1,10,2))"
      ],
      "execution_count": null,
      "outputs": []
    },
    {
      "cell_type": "markdown",
      "metadata": {
        "id": "BwmAEj94o549"
      },
      "source": [
        "**Creando una serie con escogiendo los labels de los índices**"
      ]
    },
    {
      "cell_type": "code",
      "metadata": {
        "id": "wuMGk66QAlms"
      },
      "source": [
        "#La lista [2,0,1,6] especifica los valores de la serie y la lista ['a', 'b', 'c', 'd'] especifica las etiquetas del índice\n",
        "pd.Series([2,0,1,6],index=['a','b','c','d'])"
      ],
      "execution_count": null,
      "outputs": []
    },
    {
      "cell_type": "markdown",
      "metadata": {
        "id": "M_okABSsB0dY"
      },
      "source": [
        "### Consultar una serie"
      ]
    },
    {
      "cell_type": "code",
      "metadata": {
        "id": "PAsFVpL1B9kq"
      },
      "source": [
        "deportes = {'Primero': 'Tiro al arco',\n",
        "            'Segundo': 'Fútbol',\n",
        "            'Tercero': 'Tenis',\n",
        "            'Cuarto': 'Taekwondo'}"
      ],
      "execution_count": null,
      "outputs": []
    },
    {
      "cell_type": "code",
      "metadata": {
        "id": "dG-mgUSrrGLV"
      },
      "source": [
        "x = pd.Series(deportes)\n",
        "x"
      ],
      "execution_count": null,
      "outputs": []
    },
    {
      "cell_type": "code",
      "metadata": {
        "id": "roQgj86TCDRS"
      },
      "source": [
        "#Tercer valor de la serie\n",
        "x.iloc[2]"
      ],
      "execution_count": null,
      "outputs": []
    },
    {
      "cell_type": "code",
      "metadata": {
        "id": "ZLVYDbumCLQ1"
      },
      "source": [
        "#Tercer índice de la serie\n",
        "x.loc['Tercero']"
      ],
      "execution_count": null,
      "outputs": []
    },
    {
      "cell_type": "code",
      "metadata": {
        "id": "mPXSED8GC68a"
      },
      "source": [
        "#largo de la serie\n",
        "len(deportes)"
      ],
      "execution_count": null,
      "outputs": []
    },
    {
      "cell_type": "markdown",
      "metadata": {
        "id": "uzYcwrJl8Ls9"
      },
      "source": [
        "### Dataframe\n"
      ]
    },
    {
      "cell_type": "markdown",
      "metadata": {
        "id": "_5PYp74v8UDk"
      },
      "source": [
        "Se verá en la siguiente clase"
      ]
    }
  ]
}