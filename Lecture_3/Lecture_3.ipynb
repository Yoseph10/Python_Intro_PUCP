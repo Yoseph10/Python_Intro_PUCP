{
  "nbformat": 4,
  "nbformat_minor": 0,
  "metadata": {
    "colab": {
      "name": "Taller_3.ipynb",
      "provenance": [],
      "collapsed_sections": []
    },
    "kernelspec": {
      "name": "python3",
      "display_name": "Python 3"
    },
    "language_info": {
      "name": "python"
    }
  },
  "cells": [
    {
      "cell_type": "markdown",
      "metadata": {
        "id": "oL6crXaeg49h"
      },
      "source": [
        "# CLASE 3"
      ]
    },
    {
      "cell_type": "markdown",
      "metadata": {
        "id": "mEHc2-PYqePE"
      },
      "source": [
        "## Preparando tus datos con Pandas  (II)\n",
        "\n"
      ]
    },
    {
      "cell_type": "code",
      "metadata": {
        "id": "BeSwKjiV7lu-"
      },
      "source": [
        "#Instalamos paquetes\n",
        "import numpy as np\n",
        "import pandas as pd"
      ],
      "execution_count": null,
      "outputs": []
    },
    {
      "cell_type": "markdown",
      "metadata": {
        "id": "3ndmSJ3ZnmvZ"
      },
      "source": [
        "### DataFrame"
      ]
    },
    {
      "cell_type": "markdown",
      "metadata": {
        "id": "z1zJauwBnpbz"
      },
      "source": [
        "Un DataFrame es una extensión de una Serie. Es una estructura de datos bidimensional para almacenar datos. Mientras que la Serie contiene dos componentes: un conjunto de valores y un índice de etiquetas adjuntas a estos valores - el DataFrame contiene tres componentes -la columna, el índice y el NumPy array que contiene los valores"
      ]
    },
    {
      "cell_type": "markdown",
      "metadata": {
        "id": "Jb5HuzeTqlmL"
      },
      "source": [
        "### Métodos para crear un DataFrame"
      ]
    },
    {
      "cell_type": "markdown",
      "metadata": {
        "id": "pAhXscyjsUph"
      },
      "source": [
        "**Combinando Series**"
      ]
    },
    {
      "cell_type": "code",
      "metadata": {
        "id": "W72OPN9Z2kVj"
      },
      "source": [
        "edad_estudiantes =pd.Series([21,24,19]) #series 1 / primera fila"
      ],
      "execution_count": null,
      "outputs": []
    },
    {
      "cell_type": "code",
      "metadata": {
        "id": "EyVxKbiz2lBd"
      },
      "source": [
        "edad_profesores =pd.Series([58,50,45]) #series 2 / segunda fila"
      ],
      "execution_count": null,
      "outputs": []
    },
    {
      "cell_type": "code",
      "metadata": {
        "id": "49kbOpjT2mMz"
      },
      "source": [
        "edad_asistentes =pd.Series([25,27,20])"
      ],
      "execution_count": null,
      "outputs": []
    },
    {
      "cell_type": "code",
      "metadata": {
        "id": "051O2zVY09Oc"
      },
      "source": [
        "edad_final =pd.DataFrame([edad_estudiantes, edad_profesores, edad_asistentes]) #DataFrame"
      ],
      "execution_count": null,
      "outputs": []
    },
    {
      "cell_type": "code",
      "metadata": {
        "id": "8WmezuQY39Db"
      },
      "source": [
        "edad_final"
      ],
      "execution_count": null,
      "outputs": []
    },
    {
      "cell_type": "markdown",
      "metadata": {
        "id": "utNQ5EC14Usq"
      },
      "source": [
        "Aquí, estamos definiendo tres Series y luego usamos la función pd.DataFrame\n",
        "para crear un nuevo DataFrame llamado \"edad_final\""
      ]
    },
    {
      "cell_type": "markdown",
      "metadata": {
        "id": "q4RZ0NkO4bkL"
      },
      "source": [
        "Para dar nombres a las columnas e índices, esto se realiza en un paso separado"
      ]
    },
    {
      "cell_type": "code",
      "metadata": {
        "id": "sopNpis3-ynV"
      },
      "source": [
        "edad_final.columns=['clase 1','clase 2', 'clase 3'] #naming columns\n",
        "edad_final.index=['estudiantes','profesores','asistentes']\n",
        "edad_final"
      ],
      "execution_count": null,
      "outputs": []
    },
    {
      "cell_type": "markdown",
      "metadata": {
        "id": "eGB3vg8N4iXz"
      },
      "source": [
        "**Desde un diccionario**"
      ]
    },
    {
      "cell_type": "markdown",
      "metadata": {
        "id": "incjLoIk5Gv1"
      },
      "source": [
        "Se pasa un diccionario como argumento a la función pd.DataFrame.\n"
      ]
    },
    {
      "cell_type": "markdown",
      "metadata": {
        "id": "uA72M8HC5XLZ"
      },
      "source": [
        "Las llaves conformarán los nombres de las columnas y las listas conformorán los valores de cada columna."
      ]
    },
    {
      "cell_type": "code",
      "metadata": {
        "id": "u2f7QHyh8gwP"
      },
      "source": [
        "edad_final=pd.DataFrame({'clase 1':[21,24,19], 'clase 2':[24,50,27], 'clase 3':[19,20,45]})"
      ],
      "execution_count": null,
      "outputs": []
    },
    {
      "cell_type": "code",
      "metadata": {
        "id": "k_l8hX105lDQ"
      },
      "source": [
        "edad_final"
      ],
      "execution_count": null,
      "outputs": []
    },
    {
      "cell_type": "markdown",
      "metadata": {
        "id": "9BPVvBO55q67"
      },
      "source": [
        "Otra forma de crear una DataFrame a partir de diccionarios:"
      ]
    },
    {
      "cell_type": "code",
      "metadata": {
        "id": "-mknCr_W-Rg7"
      },
      "source": [
        "alumno_1 = pd.Series({'Nombre': 'Esteban',\n",
        "                      'Edad': 22,\n",
        "                      'Profesión': 'Publicista'})\n",
        "\n",
        "alumno_2 = pd.Series({'Nombre': 'Carmen',\n",
        "                      'Edad': 24,\n",
        "                      'Profesión': 'Publicista'})\n",
        "\n",
        "alumno_3 = pd.Series({'Nombre': 'Daniela',\n",
        "                      'Edad': 28,\n",
        "                      'Profesión': 'Ingeniera Química'})"
      ],
      "execution_count": null,
      "outputs": []
    },
    {
      "cell_type": "code",
      "metadata": {
        "id": "qTlSGpfi59tC"
      },
      "source": [
        "df = pd.DataFrame([alumno_1, alumno_2, alumno_3])\n",
        "df"
      ],
      "execution_count": null,
      "outputs": []
    },
    {
      "cell_type": "code",
      "metadata": {
        "id": "Lli19Z5958J6"
      },
      "source": [
        "df = pd.DataFrame([alumno_1, alumno_2, alumno_3], index=['Clase 1', 'Clase 1', 'Clase 2'])\n",
        "df"
      ],
      "execution_count": null,
      "outputs": []
    },
    {
      "cell_type": "markdown",
      "metadata": {
        "id": "JDDxHMdn6mJB"
      },
      "source": [
        "**Desde un NumPy Array**"
      ]
    },
    {
      "cell_type": "code",
      "metadata": {
        "id": "fbIdmN3f7Q6N"
      },
      "source": [
        "np.arange(1,9)   #[start, stop)"
      ],
      "execution_count": null,
      "outputs": []
    },
    {
      "cell_type": "code",
      "metadata": {
        "id": "BJPWsxOS7saj"
      },
      "source": [
        "np.arange(1,9).reshape(2,4)"
      ],
      "execution_count": null,
      "outputs": []
    },
    {
      "cell_type": "code",
      "metadata": {
        "id": "CYFVFjxF8HKu"
      },
      "source": [
        "numeros_df = pd.DataFrame(np.arange(1,9).reshape(2,4))\n",
        "numeros_df"
      ],
      "execution_count": null,
      "outputs": []
    },
    {
      "cell_type": "markdown",
      "metadata": {
        "id": "_7qbB7uX7Bkz"
      },
      "source": [
        "Aquí, creamos un NumPy array primero usando la función np.arange. Luego,\n",
        "modificamos esta array en un DataFrame con dos filas y cuatro columnas"
      ]
    },
    {
      "cell_type": "markdown",
      "metadata": {
        "id": "1fVt7upacnLW"
      },
      "source": [
        "### Accediendo a los atributos y los valores en un DataFrame"
      ]
    },
    {
      "cell_type": "code",
      "metadata": {
        "id": "u11aw_3tcsx9"
      },
      "source": [
        "edad_final=pd.DataFrame({'clase 1':[21,24,19], 'clase 2':[24,50,27], 'clase 3':[19,20,45]})\n",
        "edad_final"
      ],
      "execution_count": null,
      "outputs": []
    },
    {
      "cell_type": "markdown",
      "metadata": {
        "id": "igXo25EH9nP8"
      },
      "source": [
        "**Accediendo a las columnas e índices**"
      ]
    },
    {
      "cell_type": "code",
      "metadata": {
        "id": "HHDiUfSrQjAQ"
      },
      "source": [
        "edad_final.columns"
      ],
      "execution_count": null,
      "outputs": []
    },
    {
      "cell_type": "code",
      "metadata": {
        "id": "2Cbc2EdIQq0m"
      },
      "source": [
        "edad_final.index"
      ],
      "execution_count": null,
      "outputs": []
    },
    {
      "cell_type": "markdown",
      "metadata": {
        "id": "yq6T_3D69ssH"
      },
      "source": [
        "**Accediendo a valores**"
      ]
    },
    {
      "cell_type": "code",
      "metadata": {
        "id": "g6yXdnM-Qz6V"
      },
      "source": [
        "edad_final.values"
      ],
      "execution_count": null,
      "outputs": []
    },
    {
      "cell_type": "code",
      "metadata": {
        "id": "i3lXh-AY8kKb"
      },
      "source": [
        "edad_final[\"clase 1\"].values"
      ],
      "execution_count": null,
      "outputs": []
    },
    {
      "cell_type": "markdown",
      "metadata": {
        "id": "q-zzTHOJA8dL"
      },
      "source": [
        "### Modificar objetos del DataFrame (I)"
      ]
    },
    {
      "cell_type": "markdown",
      "metadata": {
        "id": "1ci9owxRRPKo"
      },
      "source": [
        "**Renombrando columnas** "
      ]
    },
    {
      "cell_type": "markdown",
      "metadata": {
        "id": "ex-R1mviBUDh"
      },
      "source": [
        "Los nombres de las columnas se pueden cambiar utilizando el método *rename*. Un diccionario es pasado como argumento de este método. Las llaves de este diccionario son los nombres de las antiguas columnas y los valores son los nuevos nombres."
      ]
    },
    {
      "cell_type": "code",
      "metadata": {
        "id": "3UGqem0bAc8T"
      },
      "source": [
        "edad_final=pd.DataFrame({'clase 1':[21,24,19], 'clase 2':[24,50,27], 'clase 3':[19,20,45]})\n",
        "edad_final"
      ],
      "execution_count": null,
      "outputs": []
    },
    {
      "cell_type": "code",
      "metadata": {
        "id": "eVFTkMm-RKo2"
      },
      "source": [
        "edad_final.rename(columns={'clase 1':'aula 1','clase 2':'aula 2','clase 3':'aula 3'})"
      ],
      "execution_count": null,
      "outputs": []
    },
    {
      "cell_type": "code",
      "metadata": {
        "id": "hLVgmTx7S8zX"
      },
      "source": [
        "edad_final"
      ],
      "execution_count": null,
      "outputs": []
    },
    {
      "cell_type": "markdown",
      "metadata": {
        "id": "QvwqtRQdBkNL"
      },
      "source": [
        "La razón por la que usamos el parámetro inplace es para que los cambios se realicen en el mismo DataFrame."
      ]
    },
    {
      "cell_type": "code",
      "metadata": {
        "id": "6F-Gl0sSTSyv"
      },
      "source": [
        "edad_final.rename(columns={'clase 1':'aula 1','clase 2':'aula 2','clase 3':'aula 3'}\n",
        "                  ,inplace=True)\n",
        "\n",
        "#edad_final = edad_final.rename(columns=columns={'clase 1':'aula 1','clase 2':'aula 2','clase 3':'aula 3'})  #el comando anterior realiza esto\n",
        "edad_final"
      ],
      "execution_count": null,
      "outputs": []
    },
    {
      "cell_type": "markdown",
      "metadata": {
        "id": "YnuueSMXAoyD"
      },
      "source": [
        "Otra forma de renombrar columnas:"
      ]
    },
    {
      "cell_type": "code",
      "metadata": {
        "id": "Om28FfyQTwdn"
      },
      "source": [
        "edad_final.columns=['salón 1','salón 2','salón 3']\n",
        "edad_final"
      ],
      "execution_count": null,
      "outputs": []
    },
    {
      "cell_type": "markdown",
      "metadata": {
        "id": "xq0A_7b9Dtyr"
      },
      "source": [
        "La desventaja con este método es que uno necesita recordar el orden de las columnas. Cuando usamos el método *rename*, usamos un diccionario donde sabíamos\n",
        "qué nombres de columna estábamos cambiando."
      ]
    },
    {
      "cell_type": "markdown",
      "metadata": {
        "id": "3LB3RTmbU8I3"
      },
      "source": [
        "**Reemplazando valores o observaciones en un DataFrame**"
      ]
    },
    {
      "cell_type": "markdown",
      "metadata": {
        "id": "8SvwgON-Ebei"
      },
      "source": [
        "El método *replace* se puede utilizar para reemplazar valores en un DataFrame. Podemos usar de nuevo el formato de diccionario, con el par llave / valor que representa los valores nuevos y antiguos. Aquí nosotros reemplazamos el valor 24 con el valor 33."
      ]
    },
    {
      "cell_type": "code",
      "metadata": {
        "id": "s8-LQU9MUO5x"
      },
      "source": [
        "edad_final.replace({24:33})"
      ],
      "execution_count": null,
      "outputs": []
    },
    {
      "cell_type": "code",
      "metadata": {
        "id": "6z7Ahj62UiHX"
      },
      "source": [
        "edad_final.replace({24:33,50:100})"
      ],
      "execution_count": null,
      "outputs": []
    },
    {
      "cell_type": "markdown",
      "metadata": {
        "id": "4I57UjGXFMeB"
      },
      "source": [
        "### Modificar objetos del DataFrame: añadiendo una nueva columna (II)"
      ]
    },
    {
      "cell_type": "code",
      "metadata": {
        "id": "hs5Rbx9FVc--"
      },
      "source": [
        "hogar_1 = pd.Series({'Jefe de hogar': 'Esteban',\n",
        "                      'Edad jefe': 45,\n",
        "                      'Número de hijos': 2})\n",
        "\n",
        "hogar_2 = pd.Series({'Jefe de hogar': 'Rosa',\n",
        "                      'Edad jefe': 30,\n",
        "                      'Número de hijos': 0})\n",
        "\n",
        "hogar_3 = pd.Series({'Jefe de hogar': 'José',\n",
        "                      'Edad jefe': 65,\n",
        "                      'Número de hijos': 4})"
      ],
      "execution_count": null,
      "outputs": []
    },
    {
      "cell_type": "code",
      "metadata": {
        "id": "FfWGLtXhF1oB"
      },
      "source": [
        "df = pd.DataFrame([hogar_1, hogar_2, hogar_3], index=['Hogar 1', 'Hogar 2', 'Hogar 3'])\n",
        "df"
      ],
      "execution_count": null,
      "outputs": []
    },
    {
      "cell_type": "markdown",
      "metadata": {
        "id": "s18PmockF4MA"
      },
      "source": [
        "**Con el operador de indexación, [ ]**"
      ]
    },
    {
      "cell_type": "markdown",
      "metadata": {
        "id": "tcBJ3Qe6G33J"
      },
      "source": [
        "Al mencionar el nombre de la columna como una string dentro del operador de indexación y asignándole valores, podemos agregar una columna."
      ]
    },
    {
      "cell_type": "code",
      "metadata": {
        "id": "pFdi9X06VMoZ"
      },
      "source": [
        "df['Nivel de educación']=['secundaria', 'primaria', 'superior']\n",
        "df"
      ],
      "execution_count": null,
      "outputs": []
    },
    {
      "cell_type": "markdown",
      "metadata": {
        "id": "eshHesS4GiVB"
      },
      "source": [
        "**Utilizando el método *insert*** "
      ]
    },
    {
      "cell_type": "markdown",
      "metadata": {
        "id": "WJA66WTuGwnh"
      },
      "source": [
        "El método *insert* se puede utilizar para agregar una columna. Se necesitan tres argumentos para usar este método, mencionados a continuación:\n",
        "\n",
        "\n",
        "*   El primer argumento es el índice donde desea insertar la nueva columna (en este caso, el índice es 2, lo que significa que la nueva columna se agrega como\n",
        "tercera columna de nuestro DataFrame)\n",
        "\n",
        "*   El segundo argumento es el nombre de la nueva columna que desea insertar.\n",
        "(\"Sexo\" en este ejemplo)\n",
        "\n",
        "*   El tercer argumento es la lista que contiene los valores de la nueva columna (\"H\",\"M\",\"H\" en nuestro caso)\n",
        "\n",
        "\n",
        "\n"
      ]
    },
    {
      "cell_type": "markdown",
      "metadata": {
        "id": "cfrRrnJBJDoD"
      },
      "source": [
        "Los tres parámetros son obligatorios."
      ]
    },
    {
      "cell_type": "code",
      "metadata": {
        "id": "-R9GKH1DVKOg"
      },
      "source": [
        "df.insert(2,'Sexo',['H','M','H'])\n",
        "df"
      ],
      "execution_count": null,
      "outputs": []
    },
    {
      "cell_type": "markdown",
      "metadata": {
        "id": "kiYh5feFJMX8"
      },
      "source": [
        "**Utilizando el indexador loc**"
      ]
    },
    {
      "cell_type": "markdown",
      "metadata": {
        "id": "K7TVrMOJJc1D"
      },
      "source": [
        "En el ejemplo, todas las filas se seleccionan utilizando el operador \":\" . Este operador va seguido del nombre de la columna que se va a insertar. Los valores que tendrá esta columna se encuentran en la lista."
      ]
    },
    {
      "cell_type": "code",
      "metadata": {
        "id": "voRuJR50afp6"
      },
      "source": [
        "df.loc[:,\"Internet\"]=[1,0,1]\n",
        "df"
      ],
      "execution_count": null,
      "outputs": []
    },
    {
      "cell_type": "markdown",
      "metadata": {
        "id": "XUnD5aNRJ_gW"
      },
      "source": [
        "**Utilizando la función *concat***"
      ]
    },
    {
      "cell_type": "markdown",
      "metadata": {
        "id": "vOUduu8INjB2"
      },
      "source": [
        "Primero, la columna que se agregará (\"pais\" en este caso) se define como una serie. "
      ]
    },
    {
      "cell_type": "code",
      "metadata": {
        "id": "iUFcAgLXLg-e"
      },
      "source": [
        "pais = pd.Series([\"Perú\",\"Argentina\",\"Chile\"],index=[\"Hogar 1\", \"Hogar 2\", \"Hogar 3\"])\n",
        "pais"
      ],
      "execution_count": null,
      "outputs": []
    },
    {
      "cell_type": "markdown",
      "metadata": {
        "id": "pyz1pwqsNzKN"
      },
      "source": [
        "Luego, se agrega la serie al DataFrame usando la función *pd.concat*. El eje debe mencionarse como \"1\", ya que los nuevos datos están siendo agregados a lo largo del eje de la columna."
      ]
    },
    {
      "cell_type": "code",
      "metadata": {
        "id": "Vtsx4RKXJ3zj"
      },
      "source": [
        "df =pd.concat([df,pais],axis=1)\n",
        "df"
      ],
      "execution_count": null,
      "outputs": []
    },
    {
      "cell_type": "code",
      "metadata": {
        "id": "0VFK1859MrGr"
      },
      "source": [
        "df = df.rename(columns={0:'País'})"
      ],
      "execution_count": null,
      "outputs": []
    },
    {
      "cell_type": "code",
      "metadata": {
        "id": "I9_MXem2M7eC"
      },
      "source": [
        "df"
      ],
      "execution_count": null,
      "outputs": []
    },
    {
      "cell_type": "markdown",
      "metadata": {
        "id": "ve3U6YqwNJAe"
      },
      "source": [
        "### Modificar objetos del DataFrame: añadiendo filas (III)"
      ]
    },
    {
      "cell_type": "markdown",
      "metadata": {
        "id": "gICyf7L2NPA2"
      },
      "source": [
        "**Usando el método *append***"
      ]
    },
    {
      "cell_type": "markdown",
      "metadata": {
        "id": "iRlfxk9NOBTw"
      },
      "source": [
        "El parámetro \"ignore_index = True\" restablece el índice."
      ]
    },
    {
      "cell_type": "code",
      "metadata": {
        "id": "CkZ7tBF0eWDK"
      },
      "source": [
        "df=df.append({'Jefe de hogar': 'Daniela' ,'Edad jefe': 24 ,'Sexo': 'F',\n",
        "              'Número de hijos':1, 'Nivel de educación':'superior', 'Internet':1, 'País': 'Colombia' },ignore_index=True)\n",
        "df"
      ],
      "execution_count": null,
      "outputs": []
    },
    {
      "cell_type": "markdown",
      "metadata": {
        "id": "HmOR5p-CNhLq"
      },
      "source": [
        "**Usando el método *pd.concat***"
      ]
    },
    {
      "cell_type": "code",
      "metadata": {
        "id": "Psz1PdI_fkA8"
      },
      "source": [
        "new_row = pd.DataFrame([{'Jefe de hogar': 'Marcelo' ,'Edad jefe': 29 ,'Sexo': 'M',\n",
        "              'Número de hijos':2, 'Nivel de educación':'secundaria', 'Internet':1 }])"
      ],
      "execution_count": null,
      "outputs": []
    },
    {
      "cell_type": "code",
      "metadata": {
        "id": "ZIqivCvsONGf"
      },
      "source": [
        "df = pd.concat([df,new_row], ignore_index=True)\n",
        "df"
      ],
      "execution_count": null,
      "outputs": []
    },
    {
      "cell_type": "markdown",
      "metadata": {
        "id": "VKUMqon0PyPo"
      },
      "source": [
        "### Modificar objetos del DataFrame: eliminando columnas y filas (IV)"
      ]
    },
    {
      "cell_type": "markdown",
      "metadata": {
        "id": "cjgyYBrAfhyX"
      },
      "source": [
        "**Elimando columnas**"
      ]
    },
    {
      "cell_type": "code",
      "metadata": {
        "id": "S6GpfHQo6Uoo"
      },
      "source": [
        "#del function\n",
        "del df['Internet']\n",
        "df"
      ],
      "execution_count": null,
      "outputs": []
    },
    {
      "cell_type": "markdown",
      "metadata": {
        "id": "VPYjvLDWQy03"
      },
      "source": [
        "Tenga en cuenta que la eliminación se produce \"inplace\", es decir, en el DataFrame original."
      ]
    },
    {
      "cell_type": "code",
      "metadata": {
        "id": "BX-jxHJJfROA"
      },
      "source": [
        "#usando el método pop \n",
        "df.pop('Nivel de educación')"
      ],
      "execution_count": null,
      "outputs": []
    },
    {
      "cell_type": "code",
      "metadata": {
        "id": "wyPtHjcF6tTO"
      },
      "source": [
        "df"
      ],
      "execution_count": null,
      "outputs": []
    },
    {
      "cell_type": "markdown",
      "metadata": {
        "id": "9U7V9TScQ9RY"
      },
      "source": [
        "El método pop elimina una columna \"inplace\" y devuelve la columna eliminada como una serie.\n",
        "\n"
      ]
    },
    {
      "cell_type": "code",
      "metadata": {
        "id": "MLwlf5p87dvo"
      },
      "source": [
        "#Usando el método drop\n",
        "df.drop(['Sexo'],axis=1,inplace=True)  #axis 1=columna\n",
        "df"
      ],
      "execution_count": null,
      "outputs": []
    },
    {
      "cell_type": "markdown",
      "metadata": {
        "id": "w7zNlwcQRf0E"
      },
      "source": [
        "Dado que el método *drop* elimina filas (axis = 0) de forma predeterminada,\n",
        "necesitamos especificar el valor del axis como \"1\" si queremos eliminar una columna."
      ]
    },
    {
      "cell_type": "markdown",
      "metadata": {
        "id": "4upxJPfV7ouy"
      },
      "source": [
        "**Eliminando filas**"
      ]
    },
    {
      "cell_type": "code",
      "metadata": {
        "id": "rydPJUs87tkg"
      },
      "source": [
        "#Usando una Boolean selection\n",
        "df[~(df['Edad jefe'].values<35)]"
      ],
      "execution_count": null,
      "outputs": []
    },
    {
      "cell_type": "markdown",
      "metadata": {
        "id": "2FkovzWQR8Es"
      },
      "source": [
        "Usamos el operador NOT (~) para eliminar las filas que no queremos."
      ]
    },
    {
      "cell_type": "code",
      "metadata": {
        "id": "qwLhKZWc9zsw"
      },
      "source": [
        "df"
      ],
      "execution_count": null,
      "outputs": []
    },
    {
      "cell_type": "code",
      "metadata": {
        "id": "whgTEWoe91zB"
      },
      "source": [
        "#Usando el método drop\n",
        "df.drop([1,2])  #axis = 0 fila (predeterminado)"
      ],
      "execution_count": null,
      "outputs": []
    },
    {
      "cell_type": "markdown",
      "metadata": {
        "id": "ANvrmYVoGbUA"
      },
      "source": [
        "## DataFrames tras importar datos"
      ]
    },
    {
      "cell_type": "markdown",
      "metadata": {
        "id": "DbFAk5D7JR2R"
      },
      "source": [
        "¿Cómo montar el Google Drive para ser usado en Google Colab?\n",
        "https://colab.research.google.com/notebooks/io.ipynb"
      ]
    },
    {
      "cell_type": "code",
      "metadata": {
        "id": "eEF80WdIg7DR"
      },
      "source": [
        "from google.colab import drive\n",
        "drive.mount('/content/drive')"
      ],
      "execution_count": null,
      "outputs": []
    },
    {
      "cell_type": "code",
      "metadata": {
        "id": "J-VZEGaKJ-Ho"
      },
      "source": [
        "import os"
      ],
      "execution_count": null,
      "outputs": []
    },
    {
      "cell_type": "code",
      "metadata": {
        "id": "LuNDZLKhKJ1x"
      },
      "source": [
        "#Seteamos la ruta en la que se encuentran nuestros datos a usar\n",
        "\n",
        "os.chdir('/content/drive/MyDrive/Q-LAB/Taller Python/Datos')"
      ],
      "execution_count": null,
      "outputs": []
    },
    {
      "cell_type": "markdown",
      "metadata": {
        "id": "D6-wI3LpTh4g"
      },
      "source": [
        "Luego de colocar nuestra ruta de trabajo, podemo comenzar a importar bases de datos en distintos formatos."
      ]
    },
    {
      "cell_type": "markdown",
      "metadata": {
        "id": "M6KOsW37Ujld"
      },
      "source": [
        "Trabajaremos con la Encuesta Nacional sobre percepciones de la corrupción de Proética. Puede descargar las bases de datos para la encuesta del 2019 en este enlace: https://www.proetica.org.pe/contenido/xi-encuesta-nacional-sobre-percepciones-de-la-corrupcion-en-el-peru-2019/"
      ]
    },
    {
      "cell_type": "markdown",
      "metadata": {
        "id": "sMucw_lBVcOc"
      },
      "source": [
        "### Importando bases de datos con distintos formatos"
      ]
    },
    {
      "cell_type": "markdown",
      "metadata": {
        "id": "Da0-96OETtu-"
      },
      "source": [
        "**Importando un CSV**"
      ]
    },
    {
      "cell_type": "code",
      "metadata": {
        "id": "rawjRQRrDpZ2"
      },
      "source": [
        "df = pd.read_csv('proetica_data.csv')\n",
        "\n",
        "#df = pd.read_csv('/content/drive/MyDrive/Q-LAB/Taller Python/Datos/proetica_data.csv')"
      ],
      "execution_count": null,
      "outputs": []
    },
    {
      "cell_type": "code",
      "metadata": {
        "id": "1HxYsWtyT4fz"
      },
      "source": [
        "df"
      ],
      "execution_count": null,
      "outputs": []
    },
    {
      "cell_type": "code",
      "metadata": {
        "id": "gGFYHfx0glN5"
      },
      "source": [
        "df.head()\n",
        "#df.head(3)"
      ],
      "execution_count": null,
      "outputs": []
    },
    {
      "cell_type": "code",
      "metadata": {
        "id": "Tezx_xmNgrv3"
      },
      "source": [
        "df.tail()"
      ],
      "execution_count": null,
      "outputs": []
    },
    {
      "cell_type": "markdown",
      "metadata": {
        "id": "4IowAngCUMHm"
      },
      "source": [
        "**Importando un Excel**"
      ]
    },
    {
      "cell_type": "code",
      "metadata": {
        "id": "rvOhxzZbhE-x"
      },
      "source": [
        "df2= pd.read_excel('proetica_data.xlsx')"
      ],
      "execution_count": null,
      "outputs": []
    },
    {
      "cell_type": "markdown",
      "metadata": {
        "id": "duklPC2RUQ2x"
      },
      "source": [
        "**Importando un DTA (archivo de Stata)**\n",
        "\n"
      ]
    },
    {
      "cell_type": "code",
      "metadata": {
        "id": "St3RuXHdZsb8"
      },
      "source": [
        "df3= pd.read_stata('proetica_data.dta')"
      ],
      "execution_count": null,
      "outputs": []
    },
    {
      "cell_type": "markdown",
      "metadata": {
        "id": "DG0Ezaa7VAWo"
      },
      "source": [
        "**Importando un SAV (archivo de SPSS)**"
      ]
    },
    {
      "cell_type": "markdown",
      "metadata": {
        "id": "Lhz3h3GtVJmS"
      },
      "source": [
        "Si no les corre directamente el comando pd.read_spss, primero, corran el siguiente comando:"
      ]
    },
    {
      "cell_type": "code",
      "metadata": {
        "id": "3Qe8q9RnjVQX"
      },
      "source": [
        "pip install pyreadstat"
      ],
      "execution_count": null,
      "outputs": []
    },
    {
      "cell_type": "code",
      "metadata": {
        "id": "vDkI_AckZvWD"
      },
      "source": [
        "df4= pd.read_spss('proetica_data.sav')\n",
        "df4.head()"
      ],
      "execution_count": null,
      "outputs": []
    },
    {
      "cell_type": "markdown",
      "metadata": {
        "id": "VhoFGInPda0c"
      },
      "source": [
        "### Exploración de DataFrames"
      ]
    },
    {
      "cell_type": "code",
      "metadata": {
        "id": "ZzjceD4e-fAo"
      },
      "source": [
        "df4.shape\n",
        "#(filas,columnas)"
      ],
      "execution_count": null,
      "outputs": []
    },
    {
      "cell_type": "code",
      "metadata": {
        "id": "-GDX1nvB-fVg"
      },
      "source": [
        "df4.dtypes #tipo de variables que hay "
      ],
      "execution_count": null,
      "outputs": []
    },
    {
      "cell_type": "code",
      "metadata": {
        "id": "7gmujnukGNNo"
      },
      "source": [
        "df4['macrozona'].dtypes"
      ],
      "execution_count": null,
      "outputs": []
    },
    {
      "cell_type": "code",
      "metadata": {
        "id": "-c9X_eYIV9xw"
      },
      "source": [
        "df4['SbjNum'].dtypes"
      ],
      "execution_count": null,
      "outputs": []
    },
    {
      "cell_type": "code",
      "metadata": {
        "id": "v1teK97QIHSL"
      },
      "source": [
        "#Podemos extraer series de un DataFrame\n",
        "pd.Series(df4['macrozona'],dtype=\"category\")"
      ],
      "execution_count": null,
      "outputs": []
    },
    {
      "cell_type": "code",
      "metadata": {
        "id": "PeVa8KhbI6Tq"
      },
      "source": [
        "#Identificar la posición de una columna mediante su nombre\n",
        "df.columns.get_loc('macrozona')"
      ],
      "execution_count": null,
      "outputs": []
    },
    {
      "cell_type": "markdown",
      "metadata": {
        "id": "0KnztI4UW79f"
      },
      "source": [
        "### Descriptivos de las variables"
      ]
    },
    {
      "cell_type": "code",
      "metadata": {
        "id": "bXpeSmPHEcQi"
      },
      "source": [
        "df4.describe()"
      ],
      "execution_count": null,
      "outputs": []
    },
    {
      "cell_type": "code",
      "metadata": {
        "id": "DHPZ2lPDFEkW"
      },
      "source": [
        "df4.describe(include = [np.number])"
      ],
      "execution_count": null,
      "outputs": []
    },
    {
      "cell_type": "code",
      "metadata": {
        "id": "kqItjM1yFOvO"
      },
      "source": [
        "df4.describe(include = ['category'])"
      ],
      "execution_count": null,
      "outputs": []
    },
    {
      "cell_type": "markdown",
      "metadata": {
        "id": "pgRFqia0G9OX"
      },
      "source": [
        "### Accediendo a partes específicas del DataFrame"
      ]
    },
    {
      "cell_type": "code",
      "metadata": {
        "id": "I6RDyPF5HrX6"
      },
      "source": [
        "df4.head(3)"
      ],
      "execution_count": null,
      "outputs": []
    },
    {
      "cell_type": "code",
      "metadata": {
        "id": "6dXBxE1hH5w6"
      },
      "source": [
        "df4.loc[0] #Nos da la primera fila"
      ],
      "execution_count": null,
      "outputs": []
    },
    {
      "cell_type": "code",
      "metadata": {
        "id": "Sc0LtyDKHERr"
      },
      "source": [
        "df4.iloc[0][1] #La primera fila y la segunda columna del DataFrame"
      ],
      "execution_count": null,
      "outputs": []
    }
  ]
}